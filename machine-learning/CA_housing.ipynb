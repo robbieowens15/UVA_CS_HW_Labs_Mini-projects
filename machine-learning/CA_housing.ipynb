{
  "nbformat": 4,
  "nbformat_minor": 0,
  "metadata": {
    "colab": {
      "provenance": [],
      "collapsed_sections": []
    },
    "kernelspec": {
      "name": "python3",
      "display_name": "Python 3"
    },
    "language_info": {
      "name": "python"
    }
  },
  "cells": [
    {
      "cell_type": "markdown",
      "metadata": {
        "id": "-Y4F-zuUGsq8"
      },
      "source": [
        "# Assignment 1: Comparison of Regression Models on Housing Prices in Ames, Iowa"
      ]
    },
    {
      "cell_type": "markdown",
      "metadata": {
        "id": "MZ85ee69G7m0"
      },
      "source": [
        "### CS 4774 Machine Learning - Department of Computer Science - University of Virginia\n",
        "![(Image Credit Boston.gov)](https://miro.medium.com/max/1000/1*WYZCnpM7bE3Wq4NNxx7jDA.jpeg)\n",
        "\n",
        "In this assignment, you will practice the 8 steps of an end-to-end ML project in the context of a **regression** problem in the [Ames Housing Dataset on Kaggle](https://www.kaggle.com/competitions/house-prices-advanced-regression-techniques/data) (Image Credit: Boston.gov). You will attempt to predict the housing prices in Ames, IA. For references, you may refer to my slides or the Google Colab if you need additional sample codes to help with your assignment. To get started, you will need to upload/copy the dataset (.csv) into the same Colab workspace. \n",
        "\n",
        "For deliverables, you must write code in Colab and submit the downloaded Jupyter Notebook file (.ipynb) to earn a total of 50 pts. You will gain points depending on how you perform in the following sections.\n",
        "\n",
        "*BONUS POINTS:* 10 bonus points will be given (as Extra credits) for those who score among the top-10 performance while following strictly the assignment guidelines. Best of luck to all!"
      ]
    },
    {
      "cell_type": "markdown",
      "metadata": {
        "id": "nXPheacSXZ2V"
      },
      "source": [
        "## Step 1: Big Picture and Setup\n",
        "Write a paragraph explaining the context of the problem in which you are trying to investigate. Your paragraph may frame the problem and objectives by answering the following questions:\n",
        "* What is the task: regression, classification, clustering, visualization?\n",
        "* What to expect, how to use, and how to benefit from this model?\n",
        "* What performance measure to evaluate?\n",
        "* How much data is available or should be collected?\n",
        "* What learning algorithm to be used?\n",
        "* How much effort is to be spent?\n",
        "* Verify the assumptions that have been made about the context"
      ]
    },
    {
      "cell_type": "markdown",
      "source": [
        "The task is to make predictions about housing prices using data from the lostion of Ames, Iowa. This makes it squarely a reression ML problem. This model will aid in making accurate predictions for the value of properties in Ames, Iowa. There are useful applications of this tool for home buyers and sellers as well as real estate agents that live in Ames, Iowa. The data set provided by Kaggle contatins 1000+ entires with 80 features. This data is a mix of numerical and categorical data. I am considering using a Linear Regessor, Random Forest and Deceision Tree Models. The most effort is to be spent in the cleaning of data and the most comutational recourses will be consumed in the training of models. The model evaulation metric will the RMSE (lower is better)\n",
        "\n",
        "The assumptions are that:\n",
        "1. All data comes from Ames, Iowa and was collected within the same reasonable time interval\n",
        "2. Predictions made using this model will also be made within the same reasonable time interval such that changes exogenous factors such as Macroeconomic conditions, changes in consumer preferences and impacts to diserablitiy of this community due to factors such as climate change can be assumed ceteris paribus."
      ],
      "metadata": {
        "id": "rAKHL45PFVl9"
      }
    },
    {
      "cell_type": "code",
      "source": [
        "# Set some global constants\n",
        "RANDOM_SEED = 17"
      ],
      "metadata": {
        "id": "bqWBbTDi5dg2"
      },
      "execution_count": 74,
      "outputs": []
    },
    {
      "cell_type": "markdown",
      "metadata": {
        "id": "A3N7qDVRXuNa"
      },
      "source": [
        "## Step 2: Load the Data\n",
        "We will assume that the data file is put into the same workspace on Colab. Then, you can write some code to load the CSV file and take a quick look at the dataset, and output the following:\n",
        "\n",
        " * How big is your dataset? (in terms of MB)\n",
        " * How many entries does it have?\n",
        " * How many features does it have?\n",
        " * Does it contain any categorical data?\n",
        " * Is there any missing values?\n",
        " * What are some basic statistics you can learn right away about this dataset?"
      ]
    },
    {
      "cell_type": "code",
      "metadata": {
        "id": "3Y4uclsoGRcM"
      },
      "source": [
        "import pandas as pd\n",
        "\n",
        "# To help you get started, a load function is provided below. \n",
        "# You will need to fill in the code under #TODO to make it work.\n",
        "def loadAmesHousingData():\n",
        "  # The column names are adopted from the dataset page on Kaggle   \n",
        "  housing = pd.read_csv('/content/train.csv')\n",
        "  return housing\n",
        "\n",
        "data_set = loadAmesHousingData()"
      ],
      "execution_count": 75,
      "outputs": []
    },
    {
      "cell_type": "code",
      "source": [
        "import os\n",
        "# Size of Dataset\n",
        "size = os.path.getsize('/content/train.csv')\n",
        "print('File size in MB : ', size / (10**6))"
      ],
      "metadata": {
        "colab": {
          "base_uri": "https://localhost:8080/"
        },
        "id": "i83xRe5hGRFA",
        "outputId": "cdfb380e-1875-4d14-fddd-0f9047b1c70b"
      },
      "execution_count": 76,
      "outputs": [
        {
          "output_type": "stream",
          "name": "stdout",
          "text": [
            "File size in MB :  0.460676\n"
          ]
        }
      ]
    },
    {
      "cell_type": "code",
      "source": [
        "#num entries and num features\n",
        "data_set = loadAmesHousingData()\n",
        "num_entries, num_features = data_set.shape\n",
        "print(\"Number of Entires: \", num_entries)\n",
        "print(\"Number of Features: \", num_features)"
      ],
      "metadata": {
        "colab": {
          "base_uri": "https://localhost:8080/"
        },
        "id": "AHJ4Nqt7G_u8",
        "outputId": "c1b03cb7-dee6-45c7-bd63-738fd5813fb6"
      },
      "execution_count": 77,
      "outputs": [
        {
          "output_type": "stream",
          "name": "stdout",
          "text": [
            "Number of Entires:  1460\n",
            "Number of Features:  81\n"
          ]
        }
      ]
    },
    {
      "cell_type": "code",
      "source": [
        "# Provide a quick summary of the data including name of features, count, and type\n",
        "data_set.info()"
      ],
      "metadata": {
        "colab": {
          "base_uri": "https://localhost:8080/"
        },
        "id": "eiwInHaxhgNK",
        "outputId": "d3ce00bc-5075-4c0c-f134-c655d8f97bc8"
      },
      "execution_count": 78,
      "outputs": [
        {
          "output_type": "stream",
          "name": "stdout",
          "text": [
            "<class 'pandas.core.frame.DataFrame'>\n",
            "RangeIndex: 1460 entries, 0 to 1459\n",
            "Data columns (total 81 columns):\n",
            " #   Column         Non-Null Count  Dtype  \n",
            "---  ------         --------------  -----  \n",
            " 0   Id             1460 non-null   int64  \n",
            " 1   MSSubClass     1460 non-null   int64  \n",
            " 2   MSZoning       1460 non-null   object \n",
            " 3   LotFrontage    1201 non-null   float64\n",
            " 4   LotArea        1460 non-null   int64  \n",
            " 5   Street         1460 non-null   object \n",
            " 6   Alley          91 non-null     object \n",
            " 7   LotShape       1460 non-null   object \n",
            " 8   LandContour    1460 non-null   object \n",
            " 9   Utilities      1460 non-null   object \n",
            " 10  LotConfig      1460 non-null   object \n",
            " 11  LandSlope      1460 non-null   object \n",
            " 12  Neighborhood   1460 non-null   object \n",
            " 13  Condition1     1460 non-null   object \n",
            " 14  Condition2     1460 non-null   object \n",
            " 15  BldgType       1460 non-null   object \n",
            " 16  HouseStyle     1460 non-null   object \n",
            " 17  OverallQual    1460 non-null   int64  \n",
            " 18  OverallCond    1460 non-null   int64  \n",
            " 19  YearBuilt      1460 non-null   int64  \n",
            " 20  YearRemodAdd   1460 non-null   int64  \n",
            " 21  RoofStyle      1460 non-null   object \n",
            " 22  RoofMatl       1460 non-null   object \n",
            " 23  Exterior1st    1460 non-null   object \n",
            " 24  Exterior2nd    1460 non-null   object \n",
            " 25  MasVnrType     1452 non-null   object \n",
            " 26  MasVnrArea     1452 non-null   float64\n",
            " 27  ExterQual      1460 non-null   object \n",
            " 28  ExterCond      1460 non-null   object \n",
            " 29  Foundation     1460 non-null   object \n",
            " 30  BsmtQual       1423 non-null   object \n",
            " 31  BsmtCond       1423 non-null   object \n",
            " 32  BsmtExposure   1422 non-null   object \n",
            " 33  BsmtFinType1   1423 non-null   object \n",
            " 34  BsmtFinSF1     1460 non-null   int64  \n",
            " 35  BsmtFinType2   1422 non-null   object \n",
            " 36  BsmtFinSF2     1460 non-null   int64  \n",
            " 37  BsmtUnfSF      1460 non-null   int64  \n",
            " 38  TotalBsmtSF    1460 non-null   int64  \n",
            " 39  Heating        1460 non-null   object \n",
            " 40  HeatingQC      1460 non-null   object \n",
            " 41  CentralAir     1460 non-null   object \n",
            " 42  Electrical     1459 non-null   object \n",
            " 43  1stFlrSF       1460 non-null   int64  \n",
            " 44  2ndFlrSF       1460 non-null   int64  \n",
            " 45  LowQualFinSF   1460 non-null   int64  \n",
            " 46  GrLivArea      1460 non-null   int64  \n",
            " 47  BsmtFullBath   1460 non-null   int64  \n",
            " 48  BsmtHalfBath   1460 non-null   int64  \n",
            " 49  FullBath       1460 non-null   int64  \n",
            " 50  HalfBath       1460 non-null   int64  \n",
            " 51  BedroomAbvGr   1460 non-null   int64  \n",
            " 52  KitchenAbvGr   1460 non-null   int64  \n",
            " 53  KitchenQual    1460 non-null   object \n",
            " 54  TotRmsAbvGrd   1460 non-null   int64  \n",
            " 55  Functional     1460 non-null   object \n",
            " 56  Fireplaces     1460 non-null   int64  \n",
            " 57  FireplaceQu    770 non-null    object \n",
            " 58  GarageType     1379 non-null   object \n",
            " 59  GarageYrBlt    1379 non-null   float64\n",
            " 60  GarageFinish   1379 non-null   object \n",
            " 61  GarageCars     1460 non-null   int64  \n",
            " 62  GarageArea     1460 non-null   int64  \n",
            " 63  GarageQual     1379 non-null   object \n",
            " 64  GarageCond     1379 non-null   object \n",
            " 65  PavedDrive     1460 non-null   object \n",
            " 66  WoodDeckSF     1460 non-null   int64  \n",
            " 67  OpenPorchSF    1460 non-null   int64  \n",
            " 68  EnclosedPorch  1460 non-null   int64  \n",
            " 69  3SsnPorch      1460 non-null   int64  \n",
            " 70  ScreenPorch    1460 non-null   int64  \n",
            " 71  PoolArea       1460 non-null   int64  \n",
            " 72  PoolQC         7 non-null      object \n",
            " 73  Fence          281 non-null    object \n",
            " 74  MiscFeature    54 non-null     object \n",
            " 75  MiscVal        1460 non-null   int64  \n",
            " 76  MoSold         1460 non-null   int64  \n",
            " 77  YrSold         1460 non-null   int64  \n",
            " 78  SaleType       1460 non-null   object \n",
            " 79  SaleCondition  1460 non-null   object \n",
            " 80  SalePrice      1460 non-null   int64  \n",
            "dtypes: float64(3), int64(35), object(43)\n",
            "memory usage: 924.0+ KB\n"
          ]
        }
      ]
    },
    {
      "cell_type": "markdown",
      "source": [
        "Yes there exists a mix of numerical and categorical data in the data set"
      ],
      "metadata": {
        "id": "zXvIupkY1TtA"
      }
    },
    {
      "cell_type": "code",
      "source": [
        "for key in data_set:\n",
        "  if type(data_set[key][0]) == str:\n",
        "    print(key, \"(Categorical data)\")\n",
        "    print(data_set[key].value_counts())\n",
        "    print()"
      ],
      "metadata": {
        "colab": {
          "base_uri": "https://localhost:8080/"
        },
        "id": "pKtuQx5gb6jr",
        "outputId": "5a409088-f18a-45e8-9249-761a82294c51"
      },
      "execution_count": 7,
      "outputs": [
        {
          "output_type": "stream",
          "name": "stdout",
          "text": [
            "MSZoning (Categorical data)\n",
            "RL         1151\n",
            "RM          218\n",
            "FV           65\n",
            "RH           16\n",
            "C (all)      10\n",
            "Name: MSZoning, dtype: int64\n",
            "\n",
            "Street (Categorical data)\n",
            "Pave    1454\n",
            "Grvl       6\n",
            "Name: Street, dtype: int64\n",
            "\n",
            "LotShape (Categorical data)\n",
            "Reg    925\n",
            "IR1    484\n",
            "IR2     41\n",
            "IR3     10\n",
            "Name: LotShape, dtype: int64\n",
            "\n",
            "LandContour (Categorical data)\n",
            "Lvl    1311\n",
            "Bnk      63\n",
            "HLS      50\n",
            "Low      36\n",
            "Name: LandContour, dtype: int64\n",
            "\n",
            "Utilities (Categorical data)\n",
            "AllPub    1459\n",
            "NoSeWa       1\n",
            "Name: Utilities, dtype: int64\n",
            "\n",
            "LotConfig (Categorical data)\n",
            "Inside     1052\n",
            "Corner      263\n",
            "CulDSac      94\n",
            "FR2          47\n",
            "FR3           4\n",
            "Name: LotConfig, dtype: int64\n",
            "\n",
            "LandSlope (Categorical data)\n",
            "Gtl    1382\n",
            "Mod      65\n",
            "Sev      13\n",
            "Name: LandSlope, dtype: int64\n",
            "\n",
            "Neighborhood (Categorical data)\n",
            "NAmes      225\n",
            "CollgCr    150\n",
            "OldTown    113\n",
            "Edwards    100\n",
            "Somerst     86\n",
            "Gilbert     79\n",
            "NridgHt     77\n",
            "Sawyer      74\n",
            "NWAmes      73\n",
            "SawyerW     59\n",
            "BrkSide     58\n",
            "Crawfor     51\n",
            "Mitchel     49\n",
            "NoRidge     41\n",
            "Timber      38\n",
            "IDOTRR      37\n",
            "ClearCr     28\n",
            "StoneBr     25\n",
            "SWISU       25\n",
            "MeadowV     17\n",
            "Blmngtn     17\n",
            "BrDale      16\n",
            "Veenker     11\n",
            "NPkVill      9\n",
            "Blueste      2\n",
            "Name: Neighborhood, dtype: int64\n",
            "\n",
            "Condition1 (Categorical data)\n",
            "Norm      1260\n",
            "Feedr       81\n",
            "Artery      48\n",
            "RRAn        26\n",
            "PosN        19\n",
            "RRAe        11\n",
            "PosA         8\n",
            "RRNn         5\n",
            "RRNe         2\n",
            "Name: Condition1, dtype: int64\n",
            "\n",
            "Condition2 (Categorical data)\n",
            "Norm      1445\n",
            "Feedr        6\n",
            "Artery       2\n",
            "RRNn         2\n",
            "PosN         2\n",
            "PosA         1\n",
            "RRAn         1\n",
            "RRAe         1\n",
            "Name: Condition2, dtype: int64\n",
            "\n",
            "BldgType (Categorical data)\n",
            "1Fam      1220\n",
            "TwnhsE     114\n",
            "Duplex      52\n",
            "Twnhs       43\n",
            "2fmCon      31\n",
            "Name: BldgType, dtype: int64\n",
            "\n",
            "HouseStyle (Categorical data)\n",
            "1Story    726\n",
            "2Story    445\n",
            "1.5Fin    154\n",
            "SLvl       65\n",
            "SFoyer     37\n",
            "1.5Unf     14\n",
            "2.5Unf     11\n",
            "2.5Fin      8\n",
            "Name: HouseStyle, dtype: int64\n",
            "\n",
            "RoofStyle (Categorical data)\n",
            "Gable      1141\n",
            "Hip         286\n",
            "Flat         13\n",
            "Gambrel      11\n",
            "Mansard       7\n",
            "Shed          2\n",
            "Name: RoofStyle, dtype: int64\n",
            "\n",
            "RoofMatl (Categorical data)\n",
            "CompShg    1434\n",
            "Tar&Grv      11\n",
            "WdShngl       6\n",
            "WdShake       5\n",
            "Metal         1\n",
            "Membran       1\n",
            "Roll          1\n",
            "ClyTile       1\n",
            "Name: RoofMatl, dtype: int64\n",
            "\n",
            "Exterior1st (Categorical data)\n",
            "VinylSd    515\n",
            "HdBoard    222\n",
            "MetalSd    220\n",
            "Wd Sdng    206\n",
            "Plywood    108\n",
            "CemntBd     61\n",
            "BrkFace     50\n",
            "WdShing     26\n",
            "Stucco      25\n",
            "AsbShng     20\n",
            "BrkComm      2\n",
            "Stone        2\n",
            "AsphShn      1\n",
            "ImStucc      1\n",
            "CBlock       1\n",
            "Name: Exterior1st, dtype: int64\n",
            "\n",
            "Exterior2nd (Categorical data)\n",
            "VinylSd    504\n",
            "MetalSd    214\n",
            "HdBoard    207\n",
            "Wd Sdng    197\n",
            "Plywood    142\n",
            "CmentBd     60\n",
            "Wd Shng     38\n",
            "Stucco      26\n",
            "BrkFace     25\n",
            "AsbShng     20\n",
            "ImStucc     10\n",
            "Brk Cmn      7\n",
            "Stone        5\n",
            "AsphShn      3\n",
            "Other        1\n",
            "CBlock       1\n",
            "Name: Exterior2nd, dtype: int64\n",
            "\n",
            "MasVnrType (Categorical data)\n",
            "None       864\n",
            "BrkFace    445\n",
            "Stone      128\n",
            "BrkCmn      15\n",
            "Name: MasVnrType, dtype: int64\n",
            "\n",
            "ExterQual (Categorical data)\n",
            "TA    906\n",
            "Gd    488\n",
            "Ex     52\n",
            "Fa     14\n",
            "Name: ExterQual, dtype: int64\n",
            "\n",
            "ExterCond (Categorical data)\n",
            "TA    1282\n",
            "Gd     146\n",
            "Fa      28\n",
            "Ex       3\n",
            "Po       1\n",
            "Name: ExterCond, dtype: int64\n",
            "\n",
            "Foundation (Categorical data)\n",
            "PConc     647\n",
            "CBlock    634\n",
            "BrkTil    146\n",
            "Slab       24\n",
            "Stone       6\n",
            "Wood        3\n",
            "Name: Foundation, dtype: int64\n",
            "\n",
            "BsmtQual (Categorical data)\n",
            "TA    649\n",
            "Gd    618\n",
            "Ex    121\n",
            "Fa     35\n",
            "Name: BsmtQual, dtype: int64\n",
            "\n",
            "BsmtCond (Categorical data)\n",
            "TA    1311\n",
            "Gd      65\n",
            "Fa      45\n",
            "Po       2\n",
            "Name: BsmtCond, dtype: int64\n",
            "\n",
            "BsmtExposure (Categorical data)\n",
            "No    953\n",
            "Av    221\n",
            "Gd    134\n",
            "Mn    114\n",
            "Name: BsmtExposure, dtype: int64\n",
            "\n",
            "BsmtFinType1 (Categorical data)\n",
            "Unf    430\n",
            "GLQ    418\n",
            "ALQ    220\n",
            "BLQ    148\n",
            "Rec    133\n",
            "LwQ     74\n",
            "Name: BsmtFinType1, dtype: int64\n",
            "\n",
            "BsmtFinType2 (Categorical data)\n",
            "Unf    1256\n",
            "Rec      54\n",
            "LwQ      46\n",
            "BLQ      33\n",
            "ALQ      19\n",
            "GLQ      14\n",
            "Name: BsmtFinType2, dtype: int64\n",
            "\n",
            "Heating (Categorical data)\n",
            "GasA     1428\n",
            "GasW       18\n",
            "Grav        7\n",
            "Wall        4\n",
            "OthW        2\n",
            "Floor       1\n",
            "Name: Heating, dtype: int64\n",
            "\n",
            "HeatingQC (Categorical data)\n",
            "Ex    741\n",
            "TA    428\n",
            "Gd    241\n",
            "Fa     49\n",
            "Po      1\n",
            "Name: HeatingQC, dtype: int64\n",
            "\n",
            "CentralAir (Categorical data)\n",
            "Y    1365\n",
            "N      95\n",
            "Name: CentralAir, dtype: int64\n",
            "\n",
            "Electrical (Categorical data)\n",
            "SBrkr    1334\n",
            "FuseA      94\n",
            "FuseF      27\n",
            "FuseP       3\n",
            "Mix         1\n",
            "Name: Electrical, dtype: int64\n",
            "\n",
            "KitchenQual (Categorical data)\n",
            "TA    735\n",
            "Gd    586\n",
            "Ex    100\n",
            "Fa     39\n",
            "Name: KitchenQual, dtype: int64\n",
            "\n",
            "Functional (Categorical data)\n",
            "Typ     1360\n",
            "Min2      34\n",
            "Min1      31\n",
            "Mod       15\n",
            "Maj1      14\n",
            "Maj2       5\n",
            "Sev        1\n",
            "Name: Functional, dtype: int64\n",
            "\n",
            "GarageType (Categorical data)\n",
            "Attchd     870\n",
            "Detchd     387\n",
            "BuiltIn     88\n",
            "Basment     19\n",
            "CarPort      9\n",
            "2Types       6\n",
            "Name: GarageType, dtype: int64\n",
            "\n",
            "GarageFinish (Categorical data)\n",
            "Unf    605\n",
            "RFn    422\n",
            "Fin    352\n",
            "Name: GarageFinish, dtype: int64\n",
            "\n",
            "GarageQual (Categorical data)\n",
            "TA    1311\n",
            "Fa      48\n",
            "Gd      14\n",
            "Ex       3\n",
            "Po       3\n",
            "Name: GarageQual, dtype: int64\n",
            "\n",
            "GarageCond (Categorical data)\n",
            "TA    1326\n",
            "Fa      35\n",
            "Gd       9\n",
            "Po       7\n",
            "Ex       2\n",
            "Name: GarageCond, dtype: int64\n",
            "\n",
            "PavedDrive (Categorical data)\n",
            "Y    1340\n",
            "N      90\n",
            "P      30\n",
            "Name: PavedDrive, dtype: int64\n",
            "\n",
            "SaleType (Categorical data)\n",
            "WD       1267\n",
            "New       122\n",
            "COD        43\n",
            "ConLD       9\n",
            "ConLI       5\n",
            "ConLw       5\n",
            "CWD         4\n",
            "Oth         3\n",
            "Con         2\n",
            "Name: SaleType, dtype: int64\n",
            "\n",
            "SaleCondition (Categorical data)\n",
            "Normal     1198\n",
            "Partial     125\n",
            "Abnorml     101\n",
            "Family       20\n",
            "Alloca       12\n",
            "AdjLand       4\n",
            "Name: SaleCondition, dtype: int64\n",
            "\n"
          ]
        }
      ]
    },
    {
      "cell_type": "markdown",
      "source": [
        "Yes there is lots of categorical data! Some of these features need to be dropped becuase they are vast magority 1 value. Others could be converted into a binary of either most common or not most common. I will artifically place this cuttoff 70% of catigorical data in 1 catgorgy "
      ],
      "metadata": {
        "id": "5ZtEKZEUHpWb"
      }
    },
    {
      "cell_type": "code",
      "source": [
        "sample_incomplete_rows = data_set[data_set.isnull().any(axis=1)]\n",
        "len(sample_incomplete_rows)\n",
        "sample_incomplete_rows.head()"
      ],
      "metadata": {
        "id": "zy59UAQOiMjC",
        "outputId": "69f61047-f0df-4dda-8f08-0e498f254de5",
        "colab": {
          "base_uri": "https://localhost:8080/",
          "height": 236
        }
      },
      "execution_count": 8,
      "outputs": [
        {
          "output_type": "execute_result",
          "data": {
            "text/plain": [
              "   Id  MSSubClass MSZoning  LotFrontage  LotArea Street Alley LotShape  \\\n",
              "0   1          60       RL         65.0     8450   Pave   NaN      Reg   \n",
              "1   2          20       RL         80.0     9600   Pave   NaN      Reg   \n",
              "2   3          60       RL         68.0    11250   Pave   NaN      IR1   \n",
              "3   4          70       RL         60.0     9550   Pave   NaN      IR1   \n",
              "4   5          60       RL         84.0    14260   Pave   NaN      IR1   \n",
              "\n",
              "  LandContour Utilities  ... PoolArea PoolQC Fence MiscFeature MiscVal MoSold  \\\n",
              "0         Lvl    AllPub  ...        0    NaN   NaN         NaN       0      2   \n",
              "1         Lvl    AllPub  ...        0    NaN   NaN         NaN       0      5   \n",
              "2         Lvl    AllPub  ...        0    NaN   NaN         NaN       0      9   \n",
              "3         Lvl    AllPub  ...        0    NaN   NaN         NaN       0      2   \n",
              "4         Lvl    AllPub  ...        0    NaN   NaN         NaN       0     12   \n",
              "\n",
              "  YrSold  SaleType  SaleCondition  SalePrice  \n",
              "0   2008        WD         Normal     208500  \n",
              "1   2007        WD         Normal     181500  \n",
              "2   2008        WD         Normal     223500  \n",
              "3   2006        WD        Abnorml     140000  \n",
              "4   2008        WD         Normal     250000  \n",
              "\n",
              "[5 rows x 81 columns]"
            ],
            "text/html": [
              "\n",
              "  <div id=\"df-f7581361-046c-41d2-9684-6b3f60a5cc9f\">\n",
              "    <div class=\"colab-df-container\">\n",
              "      <div>\n",
              "<style scoped>\n",
              "    .dataframe tbody tr th:only-of-type {\n",
              "        vertical-align: middle;\n",
              "    }\n",
              "\n",
              "    .dataframe tbody tr th {\n",
              "        vertical-align: top;\n",
              "    }\n",
              "\n",
              "    .dataframe thead th {\n",
              "        text-align: right;\n",
              "    }\n",
              "</style>\n",
              "<table border=\"1\" class=\"dataframe\">\n",
              "  <thead>\n",
              "    <tr style=\"text-align: right;\">\n",
              "      <th></th>\n",
              "      <th>Id</th>\n",
              "      <th>MSSubClass</th>\n",
              "      <th>MSZoning</th>\n",
              "      <th>LotFrontage</th>\n",
              "      <th>LotArea</th>\n",
              "      <th>Street</th>\n",
              "      <th>Alley</th>\n",
              "      <th>LotShape</th>\n",
              "      <th>LandContour</th>\n",
              "      <th>Utilities</th>\n",
              "      <th>...</th>\n",
              "      <th>PoolArea</th>\n",
              "      <th>PoolQC</th>\n",
              "      <th>Fence</th>\n",
              "      <th>MiscFeature</th>\n",
              "      <th>MiscVal</th>\n",
              "      <th>MoSold</th>\n",
              "      <th>YrSold</th>\n",
              "      <th>SaleType</th>\n",
              "      <th>SaleCondition</th>\n",
              "      <th>SalePrice</th>\n",
              "    </tr>\n",
              "  </thead>\n",
              "  <tbody>\n",
              "    <tr>\n",
              "      <th>0</th>\n",
              "      <td>1</td>\n",
              "      <td>60</td>\n",
              "      <td>RL</td>\n",
              "      <td>65.0</td>\n",
              "      <td>8450</td>\n",
              "      <td>Pave</td>\n",
              "      <td>NaN</td>\n",
              "      <td>Reg</td>\n",
              "      <td>Lvl</td>\n",
              "      <td>AllPub</td>\n",
              "      <td>...</td>\n",
              "      <td>0</td>\n",
              "      <td>NaN</td>\n",
              "      <td>NaN</td>\n",
              "      <td>NaN</td>\n",
              "      <td>0</td>\n",
              "      <td>2</td>\n",
              "      <td>2008</td>\n",
              "      <td>WD</td>\n",
              "      <td>Normal</td>\n",
              "      <td>208500</td>\n",
              "    </tr>\n",
              "    <tr>\n",
              "      <th>1</th>\n",
              "      <td>2</td>\n",
              "      <td>20</td>\n",
              "      <td>RL</td>\n",
              "      <td>80.0</td>\n",
              "      <td>9600</td>\n",
              "      <td>Pave</td>\n",
              "      <td>NaN</td>\n",
              "      <td>Reg</td>\n",
              "      <td>Lvl</td>\n",
              "      <td>AllPub</td>\n",
              "      <td>...</td>\n",
              "      <td>0</td>\n",
              "      <td>NaN</td>\n",
              "      <td>NaN</td>\n",
              "      <td>NaN</td>\n",
              "      <td>0</td>\n",
              "      <td>5</td>\n",
              "      <td>2007</td>\n",
              "      <td>WD</td>\n",
              "      <td>Normal</td>\n",
              "      <td>181500</td>\n",
              "    </tr>\n",
              "    <tr>\n",
              "      <th>2</th>\n",
              "      <td>3</td>\n",
              "      <td>60</td>\n",
              "      <td>RL</td>\n",
              "      <td>68.0</td>\n",
              "      <td>11250</td>\n",
              "      <td>Pave</td>\n",
              "      <td>NaN</td>\n",
              "      <td>IR1</td>\n",
              "      <td>Lvl</td>\n",
              "      <td>AllPub</td>\n",
              "      <td>...</td>\n",
              "      <td>0</td>\n",
              "      <td>NaN</td>\n",
              "      <td>NaN</td>\n",
              "      <td>NaN</td>\n",
              "      <td>0</td>\n",
              "      <td>9</td>\n",
              "      <td>2008</td>\n",
              "      <td>WD</td>\n",
              "      <td>Normal</td>\n",
              "      <td>223500</td>\n",
              "    </tr>\n",
              "    <tr>\n",
              "      <th>3</th>\n",
              "      <td>4</td>\n",
              "      <td>70</td>\n",
              "      <td>RL</td>\n",
              "      <td>60.0</td>\n",
              "      <td>9550</td>\n",
              "      <td>Pave</td>\n",
              "      <td>NaN</td>\n",
              "      <td>IR1</td>\n",
              "      <td>Lvl</td>\n",
              "      <td>AllPub</td>\n",
              "      <td>...</td>\n",
              "      <td>0</td>\n",
              "      <td>NaN</td>\n",
              "      <td>NaN</td>\n",
              "      <td>NaN</td>\n",
              "      <td>0</td>\n",
              "      <td>2</td>\n",
              "      <td>2006</td>\n",
              "      <td>WD</td>\n",
              "      <td>Abnorml</td>\n",
              "      <td>140000</td>\n",
              "    </tr>\n",
              "    <tr>\n",
              "      <th>4</th>\n",
              "      <td>5</td>\n",
              "      <td>60</td>\n",
              "      <td>RL</td>\n",
              "      <td>84.0</td>\n",
              "      <td>14260</td>\n",
              "      <td>Pave</td>\n",
              "      <td>NaN</td>\n",
              "      <td>IR1</td>\n",
              "      <td>Lvl</td>\n",
              "      <td>AllPub</td>\n",
              "      <td>...</td>\n",
              "      <td>0</td>\n",
              "      <td>NaN</td>\n",
              "      <td>NaN</td>\n",
              "      <td>NaN</td>\n",
              "      <td>0</td>\n",
              "      <td>12</td>\n",
              "      <td>2008</td>\n",
              "      <td>WD</td>\n",
              "      <td>Normal</td>\n",
              "      <td>250000</td>\n",
              "    </tr>\n",
              "  </tbody>\n",
              "</table>\n",
              "<p>5 rows × 81 columns</p>\n",
              "</div>\n",
              "      <button class=\"colab-df-convert\" onclick=\"convertToInteractive('df-f7581361-046c-41d2-9684-6b3f60a5cc9f')\"\n",
              "              title=\"Convert this dataframe to an interactive table.\"\n",
              "              style=\"display:none;\">\n",
              "        \n",
              "  <svg xmlns=\"http://www.w3.org/2000/svg\" height=\"24px\"viewBox=\"0 0 24 24\"\n",
              "       width=\"24px\">\n",
              "    <path d=\"M0 0h24v24H0V0z\" fill=\"none\"/>\n",
              "    <path d=\"M18.56 5.44l.94 2.06.94-2.06 2.06-.94-2.06-.94-.94-2.06-.94 2.06-2.06.94zm-11 1L8.5 8.5l.94-2.06 2.06-.94-2.06-.94L8.5 2.5l-.94 2.06-2.06.94zm10 10l.94 2.06.94-2.06 2.06-.94-2.06-.94-.94-2.06-.94 2.06-2.06.94z\"/><path d=\"M17.41 7.96l-1.37-1.37c-.4-.4-.92-.59-1.43-.59-.52 0-1.04.2-1.43.59L10.3 9.45l-7.72 7.72c-.78.78-.78 2.05 0 2.83L4 21.41c.39.39.9.59 1.41.59.51 0 1.02-.2 1.41-.59l7.78-7.78 2.81-2.81c.8-.78.8-2.07 0-2.86zM5.41 20L4 18.59l7.72-7.72 1.47 1.35L5.41 20z\"/>\n",
              "  </svg>\n",
              "      </button>\n",
              "      \n",
              "  <style>\n",
              "    .colab-df-container {\n",
              "      display:flex;\n",
              "      flex-wrap:wrap;\n",
              "      gap: 12px;\n",
              "    }\n",
              "\n",
              "    .colab-df-convert {\n",
              "      background-color: #E8F0FE;\n",
              "      border: none;\n",
              "      border-radius: 50%;\n",
              "      cursor: pointer;\n",
              "      display: none;\n",
              "      fill: #1967D2;\n",
              "      height: 32px;\n",
              "      padding: 0 0 0 0;\n",
              "      width: 32px;\n",
              "    }\n",
              "\n",
              "    .colab-df-convert:hover {\n",
              "      background-color: #E2EBFA;\n",
              "      box-shadow: 0px 1px 2px rgba(60, 64, 67, 0.3), 0px 1px 3px 1px rgba(60, 64, 67, 0.15);\n",
              "      fill: #174EA6;\n",
              "    }\n",
              "\n",
              "    [theme=dark] .colab-df-convert {\n",
              "      background-color: #3B4455;\n",
              "      fill: #D2E3FC;\n",
              "    }\n",
              "\n",
              "    [theme=dark] .colab-df-convert:hover {\n",
              "      background-color: #434B5C;\n",
              "      box-shadow: 0px 1px 3px 1px rgba(0, 0, 0, 0.15);\n",
              "      filter: drop-shadow(0px 1px 2px rgba(0, 0, 0, 0.3));\n",
              "      fill: #FFFFFF;\n",
              "    }\n",
              "  </style>\n",
              "\n",
              "      <script>\n",
              "        const buttonEl =\n",
              "          document.querySelector('#df-f7581361-046c-41d2-9684-6b3f60a5cc9f button.colab-df-convert');\n",
              "        buttonEl.style.display =\n",
              "          google.colab.kernel.accessAllowed ? 'block' : 'none';\n",
              "\n",
              "        async function convertToInteractive(key) {\n",
              "          const element = document.querySelector('#df-f7581361-046c-41d2-9684-6b3f60a5cc9f');\n",
              "          const dataTable =\n",
              "            await google.colab.kernel.invokeFunction('convertToInteractive',\n",
              "                                                     [key], {});\n",
              "          if (!dataTable) return;\n",
              "\n",
              "          const docLinkHtml = 'Like what you see? Visit the ' +\n",
              "            '<a target=\"_blank\" href=https://colab.research.google.com/notebooks/data_table.ipynb>data table notebook</a>'\n",
              "            + ' to learn more about interactive tables.';\n",
              "          element.innerHTML = '';\n",
              "          dataTable['output_type'] = 'display_data';\n",
              "          await google.colab.output.renderOutput(dataTable, element);\n",
              "          const docLink = document.createElement('div');\n",
              "          docLink.innerHTML = docLinkHtml;\n",
              "          element.appendChild(docLink);\n",
              "        }\n",
              "      </script>\n",
              "    </div>\n",
              "  </div>\n",
              "  "
            ]
          },
          "metadata": {},
          "execution_count": 8
        }
      ]
    },
    {
      "cell_type": "markdown",
      "source": [
        "Yes there is some incomplete, actually all rows have some incomplete data. Thats not good"
      ],
      "metadata": {
        "id": "3Bip3JkFIjAK"
      }
    },
    {
      "cell_type": "markdown",
      "source": [
        "Here are some basic statistics about the dataset\n"
      ],
      "metadata": {
        "id": "cR2-8W6QJ3GK"
      }
    },
    {
      "cell_type": "code",
      "source": [
        "data_set.describe()"
      ],
      "metadata": {
        "colab": {
          "base_uri": "https://localhost:8080/",
          "height": 394
        },
        "id": "RVoc1kWHJ7lK",
        "outputId": "3864f1b8-c5fe-4459-acb9-406053f23d02"
      },
      "execution_count": 9,
      "outputs": [
        {
          "output_type": "execute_result",
          "data": {
            "text/plain": [
              "                Id   MSSubClass  LotFrontage        LotArea  OverallQual  \\\n",
              "count  1460.000000  1460.000000  1201.000000    1460.000000  1460.000000   \n",
              "mean    730.500000    56.897260    70.049958   10516.828082     6.099315   \n",
              "std     421.610009    42.300571    24.284752    9981.264932     1.382997   \n",
              "min       1.000000    20.000000    21.000000    1300.000000     1.000000   \n",
              "25%     365.750000    20.000000    59.000000    7553.500000     5.000000   \n",
              "50%     730.500000    50.000000    69.000000    9478.500000     6.000000   \n",
              "75%    1095.250000    70.000000    80.000000   11601.500000     7.000000   \n",
              "max    1460.000000   190.000000   313.000000  215245.000000    10.000000   \n",
              "\n",
              "       OverallCond    YearBuilt  YearRemodAdd   MasVnrArea   BsmtFinSF1  ...  \\\n",
              "count  1460.000000  1460.000000   1460.000000  1452.000000  1460.000000  ...   \n",
              "mean      5.575342  1971.267808   1984.865753   103.685262   443.639726  ...   \n",
              "std       1.112799    30.202904     20.645407   181.066207   456.098091  ...   \n",
              "min       1.000000  1872.000000   1950.000000     0.000000     0.000000  ...   \n",
              "25%       5.000000  1954.000000   1967.000000     0.000000     0.000000  ...   \n",
              "50%       5.000000  1973.000000   1994.000000     0.000000   383.500000  ...   \n",
              "75%       6.000000  2000.000000   2004.000000   166.000000   712.250000  ...   \n",
              "max       9.000000  2010.000000   2010.000000  1600.000000  5644.000000  ...   \n",
              "\n",
              "        WoodDeckSF  OpenPorchSF  EnclosedPorch    3SsnPorch  ScreenPorch  \\\n",
              "count  1460.000000  1460.000000    1460.000000  1460.000000  1460.000000   \n",
              "mean     94.244521    46.660274      21.954110     3.409589    15.060959   \n",
              "std     125.338794    66.256028      61.119149    29.317331    55.757415   \n",
              "min       0.000000     0.000000       0.000000     0.000000     0.000000   \n",
              "25%       0.000000     0.000000       0.000000     0.000000     0.000000   \n",
              "50%       0.000000    25.000000       0.000000     0.000000     0.000000   \n",
              "75%     168.000000    68.000000       0.000000     0.000000     0.000000   \n",
              "max     857.000000   547.000000     552.000000   508.000000   480.000000   \n",
              "\n",
              "          PoolArea       MiscVal       MoSold       YrSold      SalePrice  \n",
              "count  1460.000000   1460.000000  1460.000000  1460.000000    1460.000000  \n",
              "mean      2.758904     43.489041     6.321918  2007.815753  180921.195890  \n",
              "std      40.177307    496.123024     2.703626     1.328095   79442.502883  \n",
              "min       0.000000      0.000000     1.000000  2006.000000   34900.000000  \n",
              "25%       0.000000      0.000000     5.000000  2007.000000  129975.000000  \n",
              "50%       0.000000      0.000000     6.000000  2008.000000  163000.000000  \n",
              "75%       0.000000      0.000000     8.000000  2009.000000  214000.000000  \n",
              "max     738.000000  15500.000000    12.000000  2010.000000  755000.000000  \n",
              "\n",
              "[8 rows x 38 columns]"
            ],
            "text/html": [
              "\n",
              "  <div id=\"df-c0a644c2-c55d-4c97-8b56-b653ab16096e\">\n",
              "    <div class=\"colab-df-container\">\n",
              "      <div>\n",
              "<style scoped>\n",
              "    .dataframe tbody tr th:only-of-type {\n",
              "        vertical-align: middle;\n",
              "    }\n",
              "\n",
              "    .dataframe tbody tr th {\n",
              "        vertical-align: top;\n",
              "    }\n",
              "\n",
              "    .dataframe thead th {\n",
              "        text-align: right;\n",
              "    }\n",
              "</style>\n",
              "<table border=\"1\" class=\"dataframe\">\n",
              "  <thead>\n",
              "    <tr style=\"text-align: right;\">\n",
              "      <th></th>\n",
              "      <th>Id</th>\n",
              "      <th>MSSubClass</th>\n",
              "      <th>LotFrontage</th>\n",
              "      <th>LotArea</th>\n",
              "      <th>OverallQual</th>\n",
              "      <th>OverallCond</th>\n",
              "      <th>YearBuilt</th>\n",
              "      <th>YearRemodAdd</th>\n",
              "      <th>MasVnrArea</th>\n",
              "      <th>BsmtFinSF1</th>\n",
              "      <th>...</th>\n",
              "      <th>WoodDeckSF</th>\n",
              "      <th>OpenPorchSF</th>\n",
              "      <th>EnclosedPorch</th>\n",
              "      <th>3SsnPorch</th>\n",
              "      <th>ScreenPorch</th>\n",
              "      <th>PoolArea</th>\n",
              "      <th>MiscVal</th>\n",
              "      <th>MoSold</th>\n",
              "      <th>YrSold</th>\n",
              "      <th>SalePrice</th>\n",
              "    </tr>\n",
              "  </thead>\n",
              "  <tbody>\n",
              "    <tr>\n",
              "      <th>count</th>\n",
              "      <td>1460.000000</td>\n",
              "      <td>1460.000000</td>\n",
              "      <td>1201.000000</td>\n",
              "      <td>1460.000000</td>\n",
              "      <td>1460.000000</td>\n",
              "      <td>1460.000000</td>\n",
              "      <td>1460.000000</td>\n",
              "      <td>1460.000000</td>\n",
              "      <td>1452.000000</td>\n",
              "      <td>1460.000000</td>\n",
              "      <td>...</td>\n",
              "      <td>1460.000000</td>\n",
              "      <td>1460.000000</td>\n",
              "      <td>1460.000000</td>\n",
              "      <td>1460.000000</td>\n",
              "      <td>1460.000000</td>\n",
              "      <td>1460.000000</td>\n",
              "      <td>1460.000000</td>\n",
              "      <td>1460.000000</td>\n",
              "      <td>1460.000000</td>\n",
              "      <td>1460.000000</td>\n",
              "    </tr>\n",
              "    <tr>\n",
              "      <th>mean</th>\n",
              "      <td>730.500000</td>\n",
              "      <td>56.897260</td>\n",
              "      <td>70.049958</td>\n",
              "      <td>10516.828082</td>\n",
              "      <td>6.099315</td>\n",
              "      <td>5.575342</td>\n",
              "      <td>1971.267808</td>\n",
              "      <td>1984.865753</td>\n",
              "      <td>103.685262</td>\n",
              "      <td>443.639726</td>\n",
              "      <td>...</td>\n",
              "      <td>94.244521</td>\n",
              "      <td>46.660274</td>\n",
              "      <td>21.954110</td>\n",
              "      <td>3.409589</td>\n",
              "      <td>15.060959</td>\n",
              "      <td>2.758904</td>\n",
              "      <td>43.489041</td>\n",
              "      <td>6.321918</td>\n",
              "      <td>2007.815753</td>\n",
              "      <td>180921.195890</td>\n",
              "    </tr>\n",
              "    <tr>\n",
              "      <th>std</th>\n",
              "      <td>421.610009</td>\n",
              "      <td>42.300571</td>\n",
              "      <td>24.284752</td>\n",
              "      <td>9981.264932</td>\n",
              "      <td>1.382997</td>\n",
              "      <td>1.112799</td>\n",
              "      <td>30.202904</td>\n",
              "      <td>20.645407</td>\n",
              "      <td>181.066207</td>\n",
              "      <td>456.098091</td>\n",
              "      <td>...</td>\n",
              "      <td>125.338794</td>\n",
              "      <td>66.256028</td>\n",
              "      <td>61.119149</td>\n",
              "      <td>29.317331</td>\n",
              "      <td>55.757415</td>\n",
              "      <td>40.177307</td>\n",
              "      <td>496.123024</td>\n",
              "      <td>2.703626</td>\n",
              "      <td>1.328095</td>\n",
              "      <td>79442.502883</td>\n",
              "    </tr>\n",
              "    <tr>\n",
              "      <th>min</th>\n",
              "      <td>1.000000</td>\n",
              "      <td>20.000000</td>\n",
              "      <td>21.000000</td>\n",
              "      <td>1300.000000</td>\n",
              "      <td>1.000000</td>\n",
              "      <td>1.000000</td>\n",
              "      <td>1872.000000</td>\n",
              "      <td>1950.000000</td>\n",
              "      <td>0.000000</td>\n",
              "      <td>0.000000</td>\n",
              "      <td>...</td>\n",
              "      <td>0.000000</td>\n",
              "      <td>0.000000</td>\n",
              "      <td>0.000000</td>\n",
              "      <td>0.000000</td>\n",
              "      <td>0.000000</td>\n",
              "      <td>0.000000</td>\n",
              "      <td>0.000000</td>\n",
              "      <td>1.000000</td>\n",
              "      <td>2006.000000</td>\n",
              "      <td>34900.000000</td>\n",
              "    </tr>\n",
              "    <tr>\n",
              "      <th>25%</th>\n",
              "      <td>365.750000</td>\n",
              "      <td>20.000000</td>\n",
              "      <td>59.000000</td>\n",
              "      <td>7553.500000</td>\n",
              "      <td>5.000000</td>\n",
              "      <td>5.000000</td>\n",
              "      <td>1954.000000</td>\n",
              "      <td>1967.000000</td>\n",
              "      <td>0.000000</td>\n",
              "      <td>0.000000</td>\n",
              "      <td>...</td>\n",
              "      <td>0.000000</td>\n",
              "      <td>0.000000</td>\n",
              "      <td>0.000000</td>\n",
              "      <td>0.000000</td>\n",
              "      <td>0.000000</td>\n",
              "      <td>0.000000</td>\n",
              "      <td>0.000000</td>\n",
              "      <td>5.000000</td>\n",
              "      <td>2007.000000</td>\n",
              "      <td>129975.000000</td>\n",
              "    </tr>\n",
              "    <tr>\n",
              "      <th>50%</th>\n",
              "      <td>730.500000</td>\n",
              "      <td>50.000000</td>\n",
              "      <td>69.000000</td>\n",
              "      <td>9478.500000</td>\n",
              "      <td>6.000000</td>\n",
              "      <td>5.000000</td>\n",
              "      <td>1973.000000</td>\n",
              "      <td>1994.000000</td>\n",
              "      <td>0.000000</td>\n",
              "      <td>383.500000</td>\n",
              "      <td>...</td>\n",
              "      <td>0.000000</td>\n",
              "      <td>25.000000</td>\n",
              "      <td>0.000000</td>\n",
              "      <td>0.000000</td>\n",
              "      <td>0.000000</td>\n",
              "      <td>0.000000</td>\n",
              "      <td>0.000000</td>\n",
              "      <td>6.000000</td>\n",
              "      <td>2008.000000</td>\n",
              "      <td>163000.000000</td>\n",
              "    </tr>\n",
              "    <tr>\n",
              "      <th>75%</th>\n",
              "      <td>1095.250000</td>\n",
              "      <td>70.000000</td>\n",
              "      <td>80.000000</td>\n",
              "      <td>11601.500000</td>\n",
              "      <td>7.000000</td>\n",
              "      <td>6.000000</td>\n",
              "      <td>2000.000000</td>\n",
              "      <td>2004.000000</td>\n",
              "      <td>166.000000</td>\n",
              "      <td>712.250000</td>\n",
              "      <td>...</td>\n",
              "      <td>168.000000</td>\n",
              "      <td>68.000000</td>\n",
              "      <td>0.000000</td>\n",
              "      <td>0.000000</td>\n",
              "      <td>0.000000</td>\n",
              "      <td>0.000000</td>\n",
              "      <td>0.000000</td>\n",
              "      <td>8.000000</td>\n",
              "      <td>2009.000000</td>\n",
              "      <td>214000.000000</td>\n",
              "    </tr>\n",
              "    <tr>\n",
              "      <th>max</th>\n",
              "      <td>1460.000000</td>\n",
              "      <td>190.000000</td>\n",
              "      <td>313.000000</td>\n",
              "      <td>215245.000000</td>\n",
              "      <td>10.000000</td>\n",
              "      <td>9.000000</td>\n",
              "      <td>2010.000000</td>\n",
              "      <td>2010.000000</td>\n",
              "      <td>1600.000000</td>\n",
              "      <td>5644.000000</td>\n",
              "      <td>...</td>\n",
              "      <td>857.000000</td>\n",
              "      <td>547.000000</td>\n",
              "      <td>552.000000</td>\n",
              "      <td>508.000000</td>\n",
              "      <td>480.000000</td>\n",
              "      <td>738.000000</td>\n",
              "      <td>15500.000000</td>\n",
              "      <td>12.000000</td>\n",
              "      <td>2010.000000</td>\n",
              "      <td>755000.000000</td>\n",
              "    </tr>\n",
              "  </tbody>\n",
              "</table>\n",
              "<p>8 rows × 38 columns</p>\n",
              "</div>\n",
              "      <button class=\"colab-df-convert\" onclick=\"convertToInteractive('df-c0a644c2-c55d-4c97-8b56-b653ab16096e')\"\n",
              "              title=\"Convert this dataframe to an interactive table.\"\n",
              "              style=\"display:none;\">\n",
              "        \n",
              "  <svg xmlns=\"http://www.w3.org/2000/svg\" height=\"24px\"viewBox=\"0 0 24 24\"\n",
              "       width=\"24px\">\n",
              "    <path d=\"M0 0h24v24H0V0z\" fill=\"none\"/>\n",
              "    <path d=\"M18.56 5.44l.94 2.06.94-2.06 2.06-.94-2.06-.94-.94-2.06-.94 2.06-2.06.94zm-11 1L8.5 8.5l.94-2.06 2.06-.94-2.06-.94L8.5 2.5l-.94 2.06-2.06.94zm10 10l.94 2.06.94-2.06 2.06-.94-2.06-.94-.94-2.06-.94 2.06-2.06.94z\"/><path d=\"M17.41 7.96l-1.37-1.37c-.4-.4-.92-.59-1.43-.59-.52 0-1.04.2-1.43.59L10.3 9.45l-7.72 7.72c-.78.78-.78 2.05 0 2.83L4 21.41c.39.39.9.59 1.41.59.51 0 1.02-.2 1.41-.59l7.78-7.78 2.81-2.81c.8-.78.8-2.07 0-2.86zM5.41 20L4 18.59l7.72-7.72 1.47 1.35L5.41 20z\"/>\n",
              "  </svg>\n",
              "      </button>\n",
              "      \n",
              "  <style>\n",
              "    .colab-df-container {\n",
              "      display:flex;\n",
              "      flex-wrap:wrap;\n",
              "      gap: 12px;\n",
              "    }\n",
              "\n",
              "    .colab-df-convert {\n",
              "      background-color: #E8F0FE;\n",
              "      border: none;\n",
              "      border-radius: 50%;\n",
              "      cursor: pointer;\n",
              "      display: none;\n",
              "      fill: #1967D2;\n",
              "      height: 32px;\n",
              "      padding: 0 0 0 0;\n",
              "      width: 32px;\n",
              "    }\n",
              "\n",
              "    .colab-df-convert:hover {\n",
              "      background-color: #E2EBFA;\n",
              "      box-shadow: 0px 1px 2px rgba(60, 64, 67, 0.3), 0px 1px 3px 1px rgba(60, 64, 67, 0.15);\n",
              "      fill: #174EA6;\n",
              "    }\n",
              "\n",
              "    [theme=dark] .colab-df-convert {\n",
              "      background-color: #3B4455;\n",
              "      fill: #D2E3FC;\n",
              "    }\n",
              "\n",
              "    [theme=dark] .colab-df-convert:hover {\n",
              "      background-color: #434B5C;\n",
              "      box-shadow: 0px 1px 3px 1px rgba(0, 0, 0, 0.15);\n",
              "      filter: drop-shadow(0px 1px 2px rgba(0, 0, 0, 0.3));\n",
              "      fill: #FFFFFF;\n",
              "    }\n",
              "  </style>\n",
              "\n",
              "      <script>\n",
              "        const buttonEl =\n",
              "          document.querySelector('#df-c0a644c2-c55d-4c97-8b56-b653ab16096e button.colab-df-convert');\n",
              "        buttonEl.style.display =\n",
              "          google.colab.kernel.accessAllowed ? 'block' : 'none';\n",
              "\n",
              "        async function convertToInteractive(key) {\n",
              "          const element = document.querySelector('#df-c0a644c2-c55d-4c97-8b56-b653ab16096e');\n",
              "          const dataTable =\n",
              "            await google.colab.kernel.invokeFunction('convertToInteractive',\n",
              "                                                     [key], {});\n",
              "          if (!dataTable) return;\n",
              "\n",
              "          const docLinkHtml = 'Like what you see? Visit the ' +\n",
              "            '<a target=\"_blank\" href=https://colab.research.google.com/notebooks/data_table.ipynb>data table notebook</a>'\n",
              "            + ' to learn more about interactive tables.';\n",
              "          element.innerHTML = '';\n",
              "          dataTable['output_type'] = 'display_data';\n",
              "          await google.colab.output.renderOutput(dataTable, element);\n",
              "          const docLink = document.createElement('div');\n",
              "          docLink.innerHTML = docLinkHtml;\n",
              "          element.appendChild(docLink);\n",
              "        }\n",
              "      </script>\n",
              "    </div>\n",
              "  </div>\n",
              "  "
            ]
          },
          "metadata": {},
          "execution_count": 9
        }
      ]
    },
    {
      "cell_type": "markdown",
      "source": [
        "Lets examine the corrilational coeffients"
      ],
      "metadata": {
        "id": "QzTfAPG5eHaK"
      }
    },
    {
      "cell_type": "markdown",
      "metadata": {
        "id": "j5cT4JBSYOS6"
      },
      "source": [
        "## Step 3. Discover and visualize the data to gain insights\n",
        "**Data Discovery:** Plot out all correlations among the features. You should notice some features are more correlated with your predicted value than others. This information will help you confirm the weights of your regression model later on."
      ]
    },
    {
      "cell_type": "code",
      "source": [
        "discover_set = data_set.copy()"
      ],
      "metadata": {
        "id": "AJzBO-0SfErE"
      },
      "execution_count": 10,
      "outputs": []
    },
    {
      "cell_type": "code",
      "metadata": {
        "id": "HqfralxMGqCt",
        "colab": {
          "base_uri": "https://localhost:8080/"
        },
        "outputId": "bcb9a3d0-b5b5-423c-d15f-305476542494"
      },
      "source": [
        "# Your code to visualize the data here\n",
        "corr_matrix = discover_set.corr()\n",
        "corr_matrix[\"SalePrice\"].sort_values(ascending=False)"
      ],
      "execution_count": 11,
      "outputs": [
        {
          "output_type": "execute_result",
          "data": {
            "text/plain": [
              "SalePrice        1.000000\n",
              "OverallQual      0.790982\n",
              "GrLivArea        0.708624\n",
              "GarageCars       0.640409\n",
              "GarageArea       0.623431\n",
              "TotalBsmtSF      0.613581\n",
              "1stFlrSF         0.605852\n",
              "FullBath         0.560664\n",
              "TotRmsAbvGrd     0.533723\n",
              "YearBuilt        0.522897\n",
              "YearRemodAdd     0.507101\n",
              "GarageYrBlt      0.486362\n",
              "MasVnrArea       0.477493\n",
              "Fireplaces       0.466929\n",
              "BsmtFinSF1       0.386420\n",
              "LotFrontage      0.351799\n",
              "WoodDeckSF       0.324413\n",
              "2ndFlrSF         0.319334\n",
              "OpenPorchSF      0.315856\n",
              "HalfBath         0.284108\n",
              "LotArea          0.263843\n",
              "BsmtFullBath     0.227122\n",
              "BsmtUnfSF        0.214479\n",
              "BedroomAbvGr     0.168213\n",
              "ScreenPorch      0.111447\n",
              "PoolArea         0.092404\n",
              "MoSold           0.046432\n",
              "3SsnPorch        0.044584\n",
              "BsmtFinSF2      -0.011378\n",
              "BsmtHalfBath    -0.016844\n",
              "MiscVal         -0.021190\n",
              "Id              -0.021917\n",
              "LowQualFinSF    -0.025606\n",
              "YrSold          -0.028923\n",
              "OverallCond     -0.077856\n",
              "MSSubClass      -0.084284\n",
              "EnclosedPorch   -0.128578\n",
              "KitchenAbvGr    -0.135907\n",
              "Name: SalePrice, dtype: float64"
            ]
          },
          "metadata": {},
          "execution_count": 11
        }
      ]
    },
    {
      "cell_type": "code",
      "source": [
        "from pandas.plotting import scatter_matrix\n",
        "\n",
        "attributes = [\"SalePrice\", \"OverallQual\", \"GrLivArea\",\n",
        "              \"GarageCars\", \"TotalBsmtSF\", \"1stFlrSF\", \"FullBath\", \"TotRmsAbvGrd\",\n",
        "              \"YearBuilt\", \"YearRemodAdd\"]\n",
        "scatter_matrix(data_set[attributes], figsize=(12, 8))"
      ],
      "metadata": {
        "colab": {
          "base_uri": "https://localhost:8080/",
          "height": 1000
        },
        "id": "YFFI9mXffrYe",
        "outputId": "16ad55c4-0437-4087-9d98-d76496fb5c26"
      },
      "execution_count": 12,
      "outputs": [
        {
          "output_type": "execute_result",
          "data": {
            "text/plain": [
              "array([[<matplotlib.axes._subplots.AxesSubplot object at 0x7f181dc658d0>,\n",
              "        <matplotlib.axes._subplots.AxesSubplot object at 0x7f181dc502d0>,\n",
              "        <matplotlib.axes._subplots.AxesSubplot object at 0x7f181dc058d0>,\n",
              "        <matplotlib.axes._subplots.AxesSubplot object at 0x7f181dc59710>,\n",
              "        <matplotlib.axes._subplots.AxesSubplot object at 0x7f181db7c210>,\n",
              "        <matplotlib.axes._subplots.AxesSubplot object at 0x7f181db31810>,\n",
              "        <matplotlib.axes._subplots.AxesSubplot object at 0x7f181dae9e90>,\n",
              "        <matplotlib.axes._subplots.AxesSubplot object at 0x7f181daae410>,\n",
              "        <matplotlib.axes._subplots.AxesSubplot object at 0x7f181daae450>,\n",
              "        <matplotlib.axes._subplots.AxesSubplot object at 0x7f181da63b50>],\n",
              "       [<matplotlib.axes._subplots.AxesSubplot object at 0x7f181da5d690>,\n",
              "        <matplotlib.axes._subplots.AxesSubplot object at 0x7f181da11c90>,\n",
              "        <matplotlib.axes._subplots.AxesSubplot object at 0x7f181d9d52d0>,\n",
              "        <matplotlib.axes._subplots.AxesSubplot object at 0x7f181d98c8d0>,\n",
              "        <matplotlib.axes._subplots.AxesSubplot object at 0x7f181d941ed0>,\n",
              "        <matplotlib.axes._subplots.AxesSubplot object at 0x7f181d906510>,\n",
              "        <matplotlib.axes._subplots.AxesSubplot object at 0x7f181d8bcb10>,\n",
              "        <matplotlib.axes._subplots.AxesSubplot object at 0x7f181d880150>,\n",
              "        <matplotlib.axes._subplots.AxesSubplot object at 0x7f181d835750>,\n",
              "        <matplotlib.axes._subplots.AxesSubplot object at 0x7f181d7ebd50>],\n",
              "       [<matplotlib.axes._subplots.AxesSubplot object at 0x7f181d7af390>,\n",
              "        <matplotlib.axes._subplots.AxesSubplot object at 0x7f181d764990>,\n",
              "        <matplotlib.axes._subplots.AxesSubplot object at 0x7f181d79cf90>,\n",
              "        <matplotlib.axes._subplots.AxesSubplot object at 0x7f181d75f5d0>,\n",
              "        <matplotlib.axes._subplots.AxesSubplot object at 0x7f181d714bd0>,\n",
              "        <matplotlib.axes._subplots.AxesSubplot object at 0x7f181d6d9210>,\n",
              "        <matplotlib.axes._subplots.AxesSubplot object at 0x7f181d68e810>,\n",
              "        <matplotlib.axes._subplots.AxesSubplot object at 0x7f181d644e10>,\n",
              "        <matplotlib.axes._subplots.AxesSubplot object at 0x7f181d607450>,\n",
              "        <matplotlib.axes._subplots.AxesSubplot object at 0x7f181d5bda50>],\n",
              "       [<matplotlib.axes._subplots.AxesSubplot object at 0x7f181d56ab90>,\n",
              "        <matplotlib.axes._subplots.AxesSubplot object at 0x7f181d537690>,\n",
              "        <matplotlib.axes._subplots.AxesSubplot object at 0x7f181d4edc90>,\n",
              "        <matplotlib.axes._subplots.AxesSubplot object at 0x7f181d4a9c90>,\n",
              "        <matplotlib.axes._subplots.AxesSubplot object at 0x7f181d46c1d0>,\n",
              "        <matplotlib.axes._subplots.AxesSubplot object at 0x7f181d4226d0>,\n",
              "        <matplotlib.axes._subplots.AxesSubplot object at 0x7f181d458bd0>,\n",
              "        <matplotlib.axes._subplots.AxesSubplot object at 0x7f181d41c110>,\n",
              "        <matplotlib.axes._subplots.AxesSubplot object at 0x7f181d3d1610>,\n",
              "        <matplotlib.axes._subplots.AxesSubplot object at 0x7f181d387b10>],\n",
              "       [<matplotlib.axes._subplots.AxesSubplot object at 0x7f181d33ffd0>,\n",
              "        <matplotlib.axes._subplots.AxesSubplot object at 0x7f181d302550>,\n",
              "        <matplotlib.axes._subplots.AxesSubplot object at 0x7f181d2b6f10>,\n",
              "        <matplotlib.axes._subplots.AxesSubplot object at 0x7f181d27e550>,\n",
              "        <matplotlib.axes._subplots.AxesSubplot object at 0x7f181d237790>,\n",
              "        <matplotlib.axes._subplots.AxesSubplot object at 0x7f181d1e7b50>,\n",
              "        <matplotlib.axes._subplots.AxesSubplot object at 0x7f181d21ffd0>,\n",
              "        <matplotlib.axes._subplots.AxesSubplot object at 0x7f181d162550>,\n",
              "        <matplotlib.axes._subplots.AxesSubplot object at 0x7f181d198a50>,\n",
              "        <matplotlib.axes._subplots.AxesSubplot object at 0x7f181d14ef10>],\n",
              "       [<matplotlib.axes._subplots.AxesSubplot object at 0x7f181d110450>,\n",
              "        <matplotlib.axes._subplots.AxesSubplot object at 0x7f181d0c5950>,\n",
              "        <matplotlib.axes._subplots.AxesSubplot object at 0x7f181d07ae50>,\n",
              "        <matplotlib.axes._subplots.AxesSubplot object at 0x7f181d03e450>,\n",
              "        <matplotlib.axes._subplots.AxesSubplot object at 0x7f181cff5890>,\n",
              "        <matplotlib.axes._subplots.AxesSubplot object at 0x7f181cfaad90>,\n",
              "        <matplotlib.axes._subplots.AxesSubplot object at 0x7f181cf6d2d0>,\n",
              "        <matplotlib.axes._subplots.AxesSubplot object at 0x7f181cf237d0>,\n",
              "        <matplotlib.axes._subplots.AxesSubplot object at 0x7f181cf5ad10>,\n",
              "        <matplotlib.axes._subplots.AxesSubplot object at 0x7f181cf1c250>],\n",
              "       [<matplotlib.axes._subplots.AxesSubplot object at 0x7f181db42610>,\n",
              "        <matplotlib.axes._subplots.AxesSubplot object at 0x7f181d9dff50>,\n",
              "        <matplotlib.axes._subplots.AxesSubplot object at 0x7f181d7fe950>,\n",
              "        <matplotlib.axes._subplots.AxesSubplot object at 0x7f181d621310>,\n",
              "        <matplotlib.axes._subplots.AxesSubplot object at 0x7f181ce20850>,\n",
              "        <matplotlib.axes._subplots.AxesSubplot object at 0x7f181cdd6e50>,\n",
              "        <matplotlib.axes._subplots.AxesSubplot object at 0x7f181cd99490>,\n",
              "        <matplotlib.axes._subplots.AxesSubplot object at 0x7f181cd50a90>,\n",
              "        <matplotlib.axes._subplots.AxesSubplot object at 0x7f181cd130d0>,\n",
              "        <matplotlib.axes._subplots.AxesSubplot object at 0x7f181ccc76d0>],\n",
              "       [<matplotlib.axes._subplots.AxesSubplot object at 0x7f181cc7ecd0>,\n",
              "        <matplotlib.axes._subplots.AxesSubplot object at 0x7f181cc43310>,\n",
              "        <matplotlib.axes._subplots.AxesSubplot object at 0x7f181cbf8910>,\n",
              "        <matplotlib.axes._subplots.AxesSubplot object at 0x7f181cbb0f10>,\n",
              "        <matplotlib.axes._subplots.AxesSubplot object at 0x7f181cb72550>,\n",
              "        <matplotlib.axes._subplots.AxesSubplot object at 0x7f181cb28b50>,\n",
              "        <matplotlib.axes._subplots.AxesSubplot object at 0x7f181caea190>,\n",
              "        <matplotlib.axes._subplots.AxesSubplot object at 0x7f181caa2790>,\n",
              "        <matplotlib.axes._subplots.AxesSubplot object at 0x7f181cad8d90>,\n",
              "        <matplotlib.axes._subplots.AxesSubplot object at 0x7f181ca9c3d0>],\n",
              "       [<matplotlib.axes._subplots.AxesSubplot object at 0x7f181ca519d0>,\n",
              "        <matplotlib.axes._subplots.AxesSubplot object at 0x7f181c9ffb10>,\n",
              "        <matplotlib.axes._subplots.AxesSubplot object at 0x7f181c9cb610>,\n",
              "        <matplotlib.axes._subplots.AxesSubplot object at 0x7f181c980c10>,\n",
              "        <matplotlib.axes._subplots.AxesSubplot object at 0x7f181c944250>,\n",
              "        <matplotlib.axes._subplots.AxesSubplot object at 0x7f181c8fc850>,\n",
              "        <matplotlib.axes._subplots.AxesSubplot object at 0x7f181c8b1e50>,\n",
              "        <matplotlib.axes._subplots.AxesSubplot object at 0x7f181c875490>,\n",
              "        <matplotlib.axes._subplots.AxesSubplot object at 0x7f181c82ba90>,\n",
              "        <matplotlib.axes._subplots.AxesSubplot object at 0x7f181c7ed0d0>],\n",
              "       [<matplotlib.axes._subplots.AxesSubplot object at 0x7f181c81cf90>,\n",
              "        <matplotlib.axes._subplots.AxesSubplot object at 0x7f181c7614d0>,\n",
              "        <matplotlib.axes._subplots.AxesSubplot object at 0x7f181c7989d0>,\n",
              "        <matplotlib.axes._subplots.AxesSubplot object at 0x7f181c74ded0>,\n",
              "        <matplotlib.axes._subplots.AxesSubplot object at 0x7f181c70f410>,\n",
              "        <matplotlib.axes._subplots.AxesSubplot object at 0x7f181c6c7910>,\n",
              "        <matplotlib.axes._subplots.AxesSubplot object at 0x7f181c67be10>,\n",
              "        <matplotlib.axes._subplots.AxesSubplot object at 0x7f181c63f350>,\n",
              "        <matplotlib.axes._subplots.AxesSubplot object at 0x7f181c5f6850>,\n",
              "        <matplotlib.axes._subplots.AxesSubplot object at 0x7f181c5aad50>]],\n",
              "      dtype=object)"
            ]
          },
          "metadata": {},
          "execution_count": 12
        },
        {
          "output_type": "display_data",
          "data": {
            "text/plain": [
              "<Figure size 864x576 with 100 Axes>"
            ],
            "image/png": "[encoded data removed]"
          },
          "metadata": {
            "needs_background": "light"
          }
        }
      ]
    },
    {
      "cell_type": "markdown",
      "source": [
        "In the figure above to judge the corrilations visually it is helpful to examine the SalePrice row or the SalePrice Column to indenify trends"
      ],
      "metadata": {
        "id": "Y3Y-WCre1fA1"
      }
    },
    {
      "cell_type": "markdown",
      "metadata": {
        "id": "Hr8UHps5Z0cF"
      },
      "source": [
        "##  Step 4: Data Preparation and Cleaning\n",
        "Since we can only use the \"train.csv\", you have to \"artificially\" split the data into training set, validation set, and test set. You may use the `train_test_split()` function *twice*: first is to split into train and test, then to split the train again into training and validation sets.\n",
        "\n",
        "Next, you need to construct the following:\n",
        "\n",
        "* **Data Cleaning:** If your dataset has some missing values, make sure you are able to fill those values with the `Imputer` class. \n",
        "\n",
        "* **Feature Scaling:** Your task is to call the `StandardScaler` to normalize the value of each feature.\n",
        "\n",
        "* **Transformation Pipeline:** More importantly, you will need to integrate the above operations into a `Pipeline` to process and transform the training data (via `fit_transform()`), then use the same pipeline to transform any validation and testing data (using `transform()` only)."
      ]
    },
    {
      "cell_type": "code",
      "source": [
        "from sklearn.model_selection import train_test_split\n",
        "# Split the data into train set (80%) and test set (20%)\n",
        "train_set, test_set = train_test_split(data_set, test_size=0.2, random_state=RANDOM_SEED)\n",
        "\n",
        "housing_nums = train_set.select_dtypes(exclude=['object']).drop('SalePrice', axis=1)\n",
        "housing_cat = train_set.select_dtypes(include=['object'])\n",
        "housing_training_labels = train_set[\"SalePrice\"].tolist()"
      ],
      "metadata": {
        "id": "Vn0K3qYmhPuI"
      },
      "execution_count": 95,
      "outputs": []
    },
    {
      "cell_type": "code",
      "source": [
        "sample_incomplete_rows = train_set[train_set.isnull().any(axis=1)].head()\n",
        "sample_incomplete_rows"
      ],
      "metadata": {
        "colab": {
          "base_uri": "https://localhost:8080/",
          "height": 236
        },
        "id": "3ueDD4AnmxWE",
        "outputId": "852ce431-b0ca-443f-f94c-f1d40cad7c57"
      },
      "execution_count": 79,
      "outputs": [
        {
          "output_type": "execute_result",
          "data": {
            "text/plain": [
              "        Id  MSSubClass MSZoning  LotFrontage  LotArea Street Alley LotShape  \\\n",
              "254    255          20       RL         70.0     8400   Pave   NaN      Reg   \n",
              "1066  1067          60       RL         59.0     7837   Pave   NaN      IR1   \n",
              "638    639          30       RL         67.0     8777   Pave   NaN      Reg   \n",
              "799    800          50       RL         60.0     7200   Pave   NaN      Reg   \n",
              "380    381          50       RL         50.0     5000   Pave  Pave      Reg   \n",
              "\n",
              "     LandContour Utilities  ... PoolArea PoolQC  Fence MiscFeature MiscVal  \\\n",
              "254          Lvl    AllPub  ...        0    NaN    NaN         NaN       0   \n",
              "1066         Lvl    AllPub  ...        0    NaN    NaN         NaN       0   \n",
              "638          Lvl    AllPub  ...        0    NaN  MnPrv         NaN       0   \n",
              "799          Lvl    AllPub  ...        0    NaN  MnPrv         NaN       0   \n",
              "380          Lvl    AllPub  ...        0    NaN    NaN         NaN       0   \n",
              "\n",
              "     MoSold YrSold  SaleType  SaleCondition  SalePrice  \n",
              "254       6   2010        WD         Normal     145000  \n",
              "1066      5   2009        WD         Normal     178000  \n",
              "638       5   2008        WD         Normal      85000  \n",
              "799       6   2007        WD         Normal     175000  \n",
              "380       5   2010        WD         Normal     127000  \n",
              "\n",
              "[5 rows x 81 columns]"
            ],
            "text/html": [
              "\n",
              "  <div id=\"df-8376e6f6-b35c-4589-a14b-db03a178b1b5\">\n",
              "    <div class=\"colab-df-container\">\n",
              "      <div>\n",
              "<style scoped>\n",
              "    .dataframe tbody tr th:only-of-type {\n",
              "        vertical-align: middle;\n",
              "    }\n",
              "\n",
              "    .dataframe tbody tr th {\n",
              "        vertical-align: top;\n",
              "    }\n",
              "\n",
              "    .dataframe thead th {\n",
              "        text-align: right;\n",
              "    }\n",
              "</style>\n",
              "<table border=\"1\" class=\"dataframe\">\n",
              "  <thead>\n",
              "    <tr style=\"text-align: right;\">\n",
              "      <th></th>\n",
              "      <th>Id</th>\n",
              "      <th>MSSubClass</th>\n",
              "      <th>MSZoning</th>\n",
              "      <th>LotFrontage</th>\n",
              "      <th>LotArea</th>\n",
              "      <th>Street</th>\n",
              "      <th>Alley</th>\n",
              "      <th>LotShape</th>\n",
              "      <th>LandContour</th>\n",
              "      <th>Utilities</th>\n",
              "      <th>...</th>\n",
              "      <th>PoolArea</th>\n",
              "      <th>PoolQC</th>\n",
              "      <th>Fence</th>\n",
              "      <th>MiscFeature</th>\n",
              "      <th>MiscVal</th>\n",
              "      <th>MoSold</th>\n",
              "      <th>YrSold</th>\n",
              "      <th>SaleType</th>\n",
              "      <th>SaleCondition</th>\n",
              "      <th>SalePrice</th>\n",
              "    </tr>\n",
              "  </thead>\n",
              "  <tbody>\n",
              "    <tr>\n",
              "      <th>254</th>\n",
              "      <td>255</td>\n",
              "      <td>20</td>\n",
              "      <td>RL</td>\n",
              "      <td>70.0</td>\n",
              "      <td>8400</td>\n",
              "      <td>Pave</td>\n",
              "      <td>NaN</td>\n",
              "      <td>Reg</td>\n",
              "      <td>Lvl</td>\n",
              "      <td>AllPub</td>\n",
              "      <td>...</td>\n",
              "      <td>0</td>\n",
              "      <td>NaN</td>\n",
              "      <td>NaN</td>\n",
              "      <td>NaN</td>\n",
              "      <td>0</td>\n",
              "      <td>6</td>\n",
              "      <td>2010</td>\n",
              "      <td>WD</td>\n",
              "      <td>Normal</td>\n",
              "      <td>145000</td>\n",
              "    </tr>\n",
              "    <tr>\n",
              "      <th>1066</th>\n",
              "      <td>1067</td>\n",
              "      <td>60</td>\n",
              "      <td>RL</td>\n",
              "      <td>59.0</td>\n",
              "      <td>7837</td>\n",
              "      <td>Pave</td>\n",
              "      <td>NaN</td>\n",
              "      <td>IR1</td>\n",
              "      <td>Lvl</td>\n",
              "      <td>AllPub</td>\n",
              "      <td>...</td>\n",
              "      <td>0</td>\n",
              "      <td>NaN</td>\n",
              "      <td>NaN</td>\n",
              "      <td>NaN</td>\n",
              "      <td>0</td>\n",
              "      <td>5</td>\n",
              "      <td>2009</td>\n",
              "      <td>WD</td>\n",
              "      <td>Normal</td>\n",
              "      <td>178000</td>\n",
              "    </tr>\n",
              "    <tr>\n",
              "      <th>638</th>\n",
              "      <td>639</td>\n",
              "      <td>30</td>\n",
              "      <td>RL</td>\n",
              "      <td>67.0</td>\n",
              "      <td>8777</td>\n",
              "      <td>Pave</td>\n",
              "      <td>NaN</td>\n",
              "      <td>Reg</td>\n",
              "      <td>Lvl</td>\n",
              "      <td>AllPub</td>\n",
              "      <td>...</td>\n",
              "      <td>0</td>\n",
              "      <td>NaN</td>\n",
              "      <td>MnPrv</td>\n",
              "      <td>NaN</td>\n",
              "      <td>0</td>\n",
              "      <td>5</td>\n",
              "      <td>2008</td>\n",
              "      <td>WD</td>\n",
              "      <td>Normal</td>\n",
              "      <td>85000</td>\n",
              "    </tr>\n",
              "    <tr>\n",
              "      <th>799</th>\n",
              "      <td>800</td>\n",
              "      <td>50</td>\n",
              "      <td>RL</td>\n",
              "      <td>60.0</td>\n",
              "      <td>7200</td>\n",
              "      <td>Pave</td>\n",
              "      <td>NaN</td>\n",
              "      <td>Reg</td>\n",
              "      <td>Lvl</td>\n",
              "      <td>AllPub</td>\n",
              "      <td>...</td>\n",
              "      <td>0</td>\n",
              "      <td>NaN</td>\n",
              "      <td>MnPrv</td>\n",
              "      <td>NaN</td>\n",
              "      <td>0</td>\n",
              "      <td>6</td>\n",
              "      <td>2007</td>\n",
              "      <td>WD</td>\n",
              "      <td>Normal</td>\n",
              "      <td>175000</td>\n",
              "    </tr>\n",
              "    <tr>\n",
              "      <th>380</th>\n",
              "      <td>381</td>\n",
              "      <td>50</td>\n",
              "      <td>RL</td>\n",
              "      <td>50.0</td>\n",
              "      <td>5000</td>\n",
              "      <td>Pave</td>\n",
              "      <td>Pave</td>\n",
              "      <td>Reg</td>\n",
              "      <td>Lvl</td>\n",
              "      <td>AllPub</td>\n",
              "      <td>...</td>\n",
              "      <td>0</td>\n",
              "      <td>NaN</td>\n",
              "      <td>NaN</td>\n",
              "      <td>NaN</td>\n",
              "      <td>0</td>\n",
              "      <td>5</td>\n",
              "      <td>2010</td>\n",
              "      <td>WD</td>\n",
              "      <td>Normal</td>\n",
              "      <td>127000</td>\n",
              "    </tr>\n",
              "  </tbody>\n",
              "</table>\n",
              "<p>5 rows × 81 columns</p>\n",
              "</div>\n",
              "      <button class=\"colab-df-convert\" onclick=\"convertToInteractive('df-8376e6f6-b35c-4589-a14b-db03a178b1b5')\"\n",
              "              title=\"Convert this dataframe to an interactive table.\"\n",
              "              style=\"display:none;\">\n",
              "        \n",
              "  <svg xmlns=\"http://www.w3.org/2000/svg\" height=\"24px\"viewBox=\"0 0 24 24\"\n",
              "       width=\"24px\">\n",
              "    <path d=\"M0 0h24v24H0V0z\" fill=\"none\"/>\n",
              "    <path d=\"M18.56 5.44l.94 2.06.94-2.06 2.06-.94-2.06-.94-.94-2.06-.94 2.06-2.06.94zm-11 1L8.5 8.5l.94-2.06 2.06-.94-2.06-.94L8.5 2.5l-.94 2.06-2.06.94zm10 10l.94 2.06.94-2.06 2.06-.94-2.06-.94-.94-2.06-.94 2.06-2.06.94z\"/><path d=\"M17.41 7.96l-1.37-1.37c-.4-.4-.92-.59-1.43-.59-.52 0-1.04.2-1.43.59L10.3 9.45l-7.72 7.72c-.78.78-.78 2.05 0 2.83L4 21.41c.39.39.9.59 1.41.59.51 0 1.02-.2 1.41-.59l7.78-7.78 2.81-2.81c.8-.78.8-2.07 0-2.86zM5.41 20L4 18.59l7.72-7.72 1.47 1.35L5.41 20z\"/>\n",
              "  </svg>\n",
              "      </button>\n",
              "      \n",
              "  <style>\n",
              "    .colab-df-container {\n",
              "      display:flex;\n",
              "      flex-wrap:wrap;\n",
              "      gap: 12px;\n",
              "    }\n",
              "\n",
              "    .colab-df-convert {\n",
              "      background-color: #E8F0FE;\n",
              "      border: none;\n",
              "      border-radius: 50%;\n",
              "      cursor: pointer;\n",
              "      display: none;\n",
              "      fill: #1967D2;\n",
              "      height: 32px;\n",
              "      padding: 0 0 0 0;\n",
              "      width: 32px;\n",
              "    }\n",
              "\n",
              "    .colab-df-convert:hover {\n",
              "      background-color: #E2EBFA;\n",
              "      box-shadow: 0px 1px 2px rgba(60, 64, 67, 0.3), 0px 1px 3px 1px rgba(60, 64, 67, 0.15);\n",
              "      fill: #174EA6;\n",
              "    }\n",
              "\n",
              "    [theme=dark] .colab-df-convert {\n",
              "      background-color: #3B4455;\n",
              "      fill: #D2E3FC;\n",
              "    }\n",
              "\n",
              "    [theme=dark] .colab-df-convert:hover {\n",
              "      background-color: #434B5C;\n",
              "      box-shadow: 0px 1px 3px 1px rgba(0, 0, 0, 0.15);\n",
              "      filter: drop-shadow(0px 1px 2px rgba(0, 0, 0, 0.3));\n",
              "      fill: #FFFFFF;\n",
              "    }\n",
              "  </style>\n",
              "\n",
              "      <script>\n",
              "        const buttonEl =\n",
              "          document.querySelector('#df-8376e6f6-b35c-4589-a14b-db03a178b1b5 button.colab-df-convert');\n",
              "        buttonEl.style.display =\n",
              "          google.colab.kernel.accessAllowed ? 'block' : 'none';\n",
              "\n",
              "        async function convertToInteractive(key) {\n",
              "          const element = document.querySelector('#df-8376e6f6-b35c-4589-a14b-db03a178b1b5');\n",
              "          const dataTable =\n",
              "            await google.colab.kernel.invokeFunction('convertToInteractive',\n",
              "                                                     [key], {});\n",
              "          if (!dataTable) return;\n",
              "\n",
              "          const docLinkHtml = 'Like what you see? Visit the ' +\n",
              "            '<a target=\"_blank\" href=https://colab.research.google.com/notebooks/data_table.ipynb>data table notebook</a>'\n",
              "            + ' to learn more about interactive tables.';\n",
              "          element.innerHTML = '';\n",
              "          dataTable['output_type'] = 'display_data';\n",
              "          await google.colab.output.renderOutput(dataTable, element);\n",
              "          const docLink = document.createElement('div');\n",
              "          docLink.innerHTML = docLinkHtml;\n",
              "          element.appendChild(docLink);\n",
              "        }\n",
              "      </script>\n",
              "    </div>\n",
              "  </div>\n",
              "  "
            ]
          },
          "metadata": {},
          "execution_count": 79
        }
      ]
    },
    {
      "cell_type": "code",
      "source": [
        "from sklearn.impute import SimpleImputer\n",
        "import numpy as np\n",
        "import pandas as pd\n",
        "imputer = SimpleImputer(strategy=\"median\")"
      ],
      "metadata": {
        "id": "ceN0a-Cu0IG5"
      },
      "execution_count": 80,
      "outputs": []
    },
    {
      "cell_type": "code",
      "source": [
        "train_nums_only = train_set.select_dtypes(include=[np.number])"
      ],
      "metadata": {
        "id": "FHZkMOc_0SYu"
      },
      "execution_count": 81,
      "outputs": []
    },
    {
      "cell_type": "code",
      "source": [
        "imputer.fit(train_nums_only)\n",
        "X = imputer.transform(train_nums_only)"
      ],
      "metadata": {
        "id": "OGmGQDei1IGl"
      },
      "execution_count": 83,
      "outputs": []
    },
    {
      "cell_type": "code",
      "source": [
        "data_tr = pd.DataFrame(X, columns=train_nums_only.columns, index=train_set.index)\n",
        "data_tr.head()"
      ],
      "metadata": {
        "colab": {
          "base_uri": "https://localhost:8080/",
          "height": 236
        },
        "id": "rAEC2vEr2FWK",
        "outputId": "cdbdb761-e38c-4c0c-b20e-647c33011507"
      },
      "execution_count": 84,
      "outputs": [
        {
          "output_type": "execute_result",
          "data": {
            "text/plain": [
              "          Id  MSSubClass  LotFrontage  LotArea  OverallQual  OverallCond  \\\n",
              "254    255.0        20.0         70.0   8400.0          5.0          6.0   \n",
              "1066  1067.0        60.0         59.0   7837.0          6.0          7.0   \n",
              "638    639.0        30.0         67.0   8777.0          5.0          7.0   \n",
              "799    800.0        50.0         60.0   7200.0          5.0          7.0   \n",
              "380    381.0        50.0         50.0   5000.0          5.0          6.0   \n",
              "\n",
              "      YearBuilt  YearRemodAdd  MasVnrArea  BsmtFinSF1  ...  WoodDeckSF  \\\n",
              "254      1957.0        1957.0         0.0       922.0  ...       250.0   \n",
              "1066     1993.0        1994.0         0.0         0.0  ...         0.0   \n",
              "638      1910.0        1950.0         0.0         0.0  ...       328.0   \n",
              "799      1937.0        1950.0       252.0       569.0  ...         0.0   \n",
              "380      1924.0        1950.0         0.0       218.0  ...         0.0   \n",
              "\n",
              "      OpenPorchSF  EnclosedPorch  3SsnPorch  ScreenPorch  PoolArea  MiscVal  \\\n",
              "254           0.0            0.0        0.0          0.0       0.0      0.0   \n",
              "1066         40.0            0.0        0.0          0.0       0.0      0.0   \n",
              "638           0.0          164.0        0.0          0.0       0.0      0.0   \n",
              "799           0.0          264.0        0.0          0.0       0.0      0.0   \n",
              "380           0.0          242.0        0.0          0.0       0.0      0.0   \n",
              "\n",
              "      MoSold  YrSold  SalePrice  \n",
              "254      6.0  2010.0   145000.0  \n",
              "1066     5.0  2009.0   178000.0  \n",
              "638      5.0  2008.0    85000.0  \n",
              "799      6.0  2007.0   175000.0  \n",
              "380      5.0  2010.0   127000.0  \n",
              "\n",
              "[5 rows x 38 columns]"
            ],
            "text/html": [
              "\n",
              "  <div id=\"df-95d0347b-7c44-42c8-813b-2ffc5986620f\">\n",
              "    <div class=\"colab-df-container\">\n",
              "      <div>\n",
              "<style scoped>\n",
              "    .dataframe tbody tr th:only-of-type {\n",
              "        vertical-align: middle;\n",
              "    }\n",
              "\n",
              "    .dataframe tbody tr th {\n",
              "        vertical-align: top;\n",
              "    }\n",
              "\n",
              "    .dataframe thead th {\n",
              "        text-align: right;\n",
              "    }\n",
              "</style>\n",
              "<table border=\"1\" class=\"dataframe\">\n",
              "  <thead>\n",
              "    <tr style=\"text-align: right;\">\n",
              "      <th></th>\n",
              "      <th>Id</th>\n",
              "      <th>MSSubClass</th>\n",
              "      <th>LotFrontage</th>\n",
              "      <th>LotArea</th>\n",
              "      <th>OverallQual</th>\n",
              "      <th>OverallCond</th>\n",
              "      <th>YearBuilt</th>\n",
              "      <th>YearRemodAdd</th>\n",
              "      <th>MasVnrArea</th>\n",
              "      <th>BsmtFinSF1</th>\n",
              "      <th>...</th>\n",
              "      <th>WoodDeckSF</th>\n",
              "      <th>OpenPorchSF</th>\n",
              "      <th>EnclosedPorch</th>\n",
              "      <th>3SsnPorch</th>\n",
              "      <th>ScreenPorch</th>\n",
              "      <th>PoolArea</th>\n",
              "      <th>MiscVal</th>\n",
              "      <th>MoSold</th>\n",
              "      <th>YrSold</th>\n",
              "      <th>SalePrice</th>\n",
              "    </tr>\n",
              "  </thead>\n",
              "  <tbody>\n",
              "    <tr>\n",
              "      <th>254</th>\n",
              "      <td>255.0</td>\n",
              "      <td>20.0</td>\n",
              "      <td>70.0</td>\n",
              "      <td>8400.0</td>\n",
              "      <td>5.0</td>\n",
              "      <td>6.0</td>\n",
              "      <td>1957.0</td>\n",
              "      <td>1957.0</td>\n",
              "      <td>0.0</td>\n",
              "      <td>922.0</td>\n",
              "      <td>...</td>\n",
              "      <td>250.0</td>\n",
              "      <td>0.0</td>\n",
              "      <td>0.0</td>\n",
              "      <td>0.0</td>\n",
              "      <td>0.0</td>\n",
              "      <td>0.0</td>\n",
              "      <td>0.0</td>\n",
              "      <td>6.0</td>\n",
              "      <td>2010.0</td>\n",
              "      <td>145000.0</td>\n",
              "    </tr>\n",
              "    <tr>\n",
              "      <th>1066</th>\n",
              "      <td>1067.0</td>\n",
              "      <td>60.0</td>\n",
              "      <td>59.0</td>\n",
              "      <td>7837.0</td>\n",
              "      <td>6.0</td>\n",
              "      <td>7.0</td>\n",
              "      <td>1993.0</td>\n",
              "      <td>1994.0</td>\n",
              "      <td>0.0</td>\n",
              "      <td>0.0</td>\n",
              "      <td>...</td>\n",
              "      <td>0.0</td>\n",
              "      <td>40.0</td>\n",
              "      <td>0.0</td>\n",
              "      <td>0.0</td>\n",
              "      <td>0.0</td>\n",
              "      <td>0.0</td>\n",
              "      <td>0.0</td>\n",
              "      <td>5.0</td>\n",
              "      <td>2009.0</td>\n",
              "      <td>178000.0</td>\n",
              "    </tr>\n",
              "    <tr>\n",
              "      <th>638</th>\n",
              "      <td>639.0</td>\n",
              "      <td>30.0</td>\n",
              "      <td>67.0</td>\n",
              "      <td>8777.0</td>\n",
              "      <td>5.0</td>\n",
              "      <td>7.0</td>\n",
              "      <td>1910.0</td>\n",
              "      <td>1950.0</td>\n",
              "      <td>0.0</td>\n",
              "      <td>0.0</td>\n",
              "      <td>...</td>\n",
              "      <td>328.0</td>\n",
              "      <td>0.0</td>\n",
              "      <td>164.0</td>\n",
              "      <td>0.0</td>\n",
              "      <td>0.0</td>\n",
              "      <td>0.0</td>\n",
              "      <td>0.0</td>\n",
              "      <td>5.0</td>\n",
              "      <td>2008.0</td>\n",
              "      <td>85000.0</td>\n",
              "    </tr>\n",
              "    <tr>\n",
              "      <th>799</th>\n",
              "      <td>800.0</td>\n",
              "      <td>50.0</td>\n",
              "      <td>60.0</td>\n",
              "      <td>7200.0</td>\n",
              "      <td>5.0</td>\n",
              "      <td>7.0</td>\n",
              "      <td>1937.0</td>\n",
              "      <td>1950.0</td>\n",
              "      <td>252.0</td>\n",
              "      <td>569.0</td>\n",
              "      <td>...</td>\n",
              "      <td>0.0</td>\n",
              "      <td>0.0</td>\n",
              "      <td>264.0</td>\n",
              "      <td>0.0</td>\n",
              "      <td>0.0</td>\n",
              "      <td>0.0</td>\n",
              "      <td>0.0</td>\n",
              "      <td>6.0</td>\n",
              "      <td>2007.0</td>\n",
              "      <td>175000.0</td>\n",
              "    </tr>\n",
              "    <tr>\n",
              "      <th>380</th>\n",
              "      <td>381.0</td>\n",
              "      <td>50.0</td>\n",
              "      <td>50.0</td>\n",
              "      <td>5000.0</td>\n",
              "      <td>5.0</td>\n",
              "      <td>6.0</td>\n",
              "      <td>1924.0</td>\n",
              "      <td>1950.0</td>\n",
              "      <td>0.0</td>\n",
              "      <td>218.0</td>\n",
              "      <td>...</td>\n",
              "      <td>0.0</td>\n",
              "      <td>0.0</td>\n",
              "      <td>242.0</td>\n",
              "      <td>0.0</td>\n",
              "      <td>0.0</td>\n",
              "      <td>0.0</td>\n",
              "      <td>0.0</td>\n",
              "      <td>5.0</td>\n",
              "      <td>2010.0</td>\n",
              "      <td>127000.0</td>\n",
              "    </tr>\n",
              "  </tbody>\n",
              "</table>\n",
              "<p>5 rows × 38 columns</p>\n",
              "</div>\n",
              "      <button class=\"colab-df-convert\" onclick=\"convertToInteractive('df-95d0347b-7c44-42c8-813b-2ffc5986620f')\"\n",
              "              title=\"Convert this dataframe to an interactive table.\"\n",
              "              style=\"display:none;\">\n",
              "        \n",
              "  <svg xmlns=\"http://www.w3.org/2000/svg\" height=\"24px\"viewBox=\"0 0 24 24\"\n",
              "       width=\"24px\">\n",
              "    <path d=\"M0 0h24v24H0V0z\" fill=\"none\"/>\n",
              "    <path d=\"M18.56 5.44l.94 2.06.94-2.06 2.06-.94-2.06-.94-.94-2.06-.94 2.06-2.06.94zm-11 1L8.5 8.5l.94-2.06 2.06-.94-2.06-.94L8.5 2.5l-.94 2.06-2.06.94zm10 10l.94 2.06.94-2.06 2.06-.94-2.06-.94-.94-2.06-.94 2.06-2.06.94z\"/><path d=\"M17.41 7.96l-1.37-1.37c-.4-.4-.92-.59-1.43-.59-.52 0-1.04.2-1.43.59L10.3 9.45l-7.72 7.72c-.78.78-.78 2.05 0 2.83L4 21.41c.39.39.9.59 1.41.59.51 0 1.02-.2 1.41-.59l7.78-7.78 2.81-2.81c.8-.78.8-2.07 0-2.86zM5.41 20L4 18.59l7.72-7.72 1.47 1.35L5.41 20z\"/>\n",
              "  </svg>\n",
              "      </button>\n",
              "      \n",
              "  <style>\n",
              "    .colab-df-container {\n",
              "      display:flex;\n",
              "      flex-wrap:wrap;\n",
              "      gap: 12px;\n",
              "    }\n",
              "\n",
              "    .colab-df-convert {\n",
              "      background-color: #E8F0FE;\n",
              "      border: none;\n",
              "      border-radius: 50%;\n",
              "      cursor: pointer;\n",
              "      display: none;\n",
              "      fill: #1967D2;\n",
              "      height: 32px;\n",
              "      padding: 0 0 0 0;\n",
              "      width: 32px;\n",
              "    }\n",
              "\n",
              "    .colab-df-convert:hover {\n",
              "      background-color: #E2EBFA;\n",
              "      box-shadow: 0px 1px 2px rgba(60, 64, 67, 0.3), 0px 1px 3px 1px rgba(60, 64, 67, 0.15);\n",
              "      fill: #174EA6;\n",
              "    }\n",
              "\n",
              "    [theme=dark] .colab-df-convert {\n",
              "      background-color: #3B4455;\n",
              "      fill: #D2E3FC;\n",
              "    }\n",
              "\n",
              "    [theme=dark] .colab-df-convert:hover {\n",
              "      background-color: #434B5C;\n",
              "      box-shadow: 0px 1px 3px 1px rgba(0, 0, 0, 0.15);\n",
              "      filter: drop-shadow(0px 1px 2px rgba(0, 0, 0, 0.3));\n",
              "      fill: #FFFFFF;\n",
              "    }\n",
              "  </style>\n",
              "\n",
              "      <script>\n",
              "        const buttonEl =\n",
              "          document.querySelector('#df-95d0347b-7c44-42c8-813b-2ffc5986620f button.colab-df-convert');\n",
              "        buttonEl.style.display =\n",
              "          google.colab.kernel.accessAllowed ? 'block' : 'none';\n",
              "\n",
              "        async function convertToInteractive(key) {\n",
              "          const element = document.querySelector('#df-95d0347b-7c44-42c8-813b-2ffc5986620f');\n",
              "          const dataTable =\n",
              "            await google.colab.kernel.invokeFunction('convertToInteractive',\n",
              "                                                     [key], {});\n",
              "          if (!dataTable) return;\n",
              "\n",
              "          const docLinkHtml = 'Like what you see? Visit the ' +\n",
              "            '<a target=\"_blank\" href=https://colab.research.google.com/notebooks/data_table.ipynb>data table notebook</a>'\n",
              "            + ' to learn more about interactive tables.';\n",
              "          element.innerHTML = '';\n",
              "          dataTable['output_type'] = 'display_data';\n",
              "          await google.colab.output.renderOutput(dataTable, element);\n",
              "          const docLink = document.createElement('div');\n",
              "          docLink.innerHTML = docLinkHtml;\n",
              "          element.appendChild(docLink);\n",
              "        }\n",
              "      </script>\n",
              "    </div>\n",
              "  </div>\n",
              "  "
            ]
          },
          "metadata": {},
          "execution_count": 84
        }
      ]
    },
    {
      "cell_type": "code",
      "source": [
        "sample_incomplete_rows = train_set[train_set.isnull().any(axis=1)]\n",
        "len(sample_incomplete_rows)"
      ],
      "metadata": {
        "colab": {
          "base_uri": "https://localhost:8080/"
        },
        "id": "qwTTa15d_l6u",
        "outputId": "ceb80889-8bae-425c-ac26-29f66bad8457"
      },
      "execution_count": 85,
      "outputs": [
        {
          "output_type": "execute_result",
          "data": {
            "text/plain": [
              "1168"
            ]
          },
          "metadata": {},
          "execution_count": 85
        }
      ]
    },
    {
      "cell_type": "code",
      "source": [
        "from sklearn.base import BaseEstimator, TransformerMixin\n",
        "\n",
        "class DropEmptyData(BaseEstimator, TransformerMixin):\n",
        "  def __init__(self, drop_bad_data = True):\n",
        "    self.drop_bad_data = drop_bad_data\n",
        "  def fit(self, X, y=None):\n",
        "    return self\n",
        "  def transform(self, X, y=None):\n",
        "    if self.drop_bad_data:\n",
        "      nullCount = X.isnull().sum(axis = 0)\n",
        "      nullCountList = list(zip(nullCount.index, nullCount))\n",
        "      for each in nullCountList:\n",
        "        if each[1] > (num_entries / 2): # if over 50% of data is missing drop the feature\n",
        "          X.drop([each[0]], axis = 1, inplace=True)\n",
        "    return X"
      ],
      "metadata": {
        "id": "o1HZqUAIpruc"
      },
      "execution_count": 86,
      "outputs": []
    },
    {
      "cell_type": "code",
      "source": [
        "def dropCatData(df):\n",
        "  nullCount = df.isnull().sum(axis = 0)\n",
        "  nullCountList = list(zip(nullCount.index,nullCount))\n",
        "\n",
        "  for each in nullCountList:  # if over 50% of data is missing drop the feature\n",
        "    if each[1] > (num_entries / 2):\n",
        "      df.drop(each[0], axis=1, inplace=True)\n",
        "\n",
        "  for col in df:\n",
        "    proportions = df[col].value_counts() / len(df)\n",
        "    proportions_df = proportions.to_frame()\n",
        "  for index, row in proportions_df.iterrows():\n",
        "    rowList = list(zip(row.index,row))\n",
        "    if rowList[0][1] > 0.9:  # if over 90% of data within a category is idenitcal drop the feature\n",
        "      df.drop(col, axis=1, inplace=True)\n",
        "  return df"
      ],
      "metadata": {
        "id": "RPh2pia5qhcC"
      },
      "execution_count": 87,
      "outputs": []
    },
    {
      "cell_type": "code",
      "source": [
        "from sklearn.pipeline import Pipeline\n",
        "from sklearn.preprocessing import StandardScaler\n",
        "from sklearn.impute import SimpleImputer\n",
        "\n",
        "num_pipeline = Pipeline([\n",
        "    ('DropNumData', DropEmptyData()),\n",
        "    ('imputer', SimpleImputer(strategy='median')),\n",
        "    ('std_scaler', StandardScaler()),\n",
        "])\n",
        "\n",
        "housing_num_tr = num_pipeline.fit_transform(housing_nums)"
      ],
      "metadata": {
        "id": "0OO7de78qljl"
      },
      "execution_count": 88,
      "outputs": []
    },
    {
      "cell_type": "code",
      "source": [
        "housing_num_tr"
      ],
      "metadata": {
        "colab": {
          "base_uri": "https://localhost:8080/"
        },
        "id": "xPhrlrlmqrvs",
        "outputId": "a7842cbd-54b0-44f9-d5a0-8b9ca982ed2d"
      },
      "execution_count": 89,
      "outputs": [
        {
          "output_type": "execute_result",
          "data": {
            "text/plain": [
              "array([[-1.11928402, -0.8667643 , -0.01246836, ..., -0.09274033,\n",
              "        -0.13341669,  1.65006527],\n",
              "       [ 0.79046412,  0.07410996, -0.50235683, ..., -0.09274033,\n",
              "        -0.5080097 ,  0.89367742],\n",
              "       [-0.21615189, -0.63154574, -0.14607431, ..., -0.09274033,\n",
              "        -0.5080097 ,  0.13728958],\n",
              "       ...,\n",
              "       [ 1.32669882, -0.8667643 , -0.45782152, ..., -0.09274033,\n",
              "        -0.88260272, -1.37548612],\n",
              "       [ 0.30597137, -0.16110861, -0.6804981 , ..., -0.09274033,\n",
              "        -0.13341669, -0.61909827],\n",
              "       [ 0.93157852,  1.48542135, -0.76956873, ..., -0.09274033,\n",
              "        -0.13341669,  0.89367742]])"
            ]
          },
          "metadata": {},
          "execution_count": 89
        }
      ]
    },
    {
      "cell_type": "markdown",
      "source": [
        "Now to Fix remaining categorical data"
      ],
      "metadata": {
        "id": "gHslq6tyTpSs"
      }
    },
    {
      "cell_type": "code",
      "source": [
        "from sklearn.preprocessing import OneHotEncoder\n",
        "\n",
        "cat_pipeline = Pipeline([\n",
        "    ('imputer', SimpleImputer(strategy='most_frequent')),\n",
        "    ('cat', OneHotEncoder(handle_unknown='ignore')),\n",
        "    ('std_scaler', StandardScaler(with_mean=False)),\n",
        "])\n",
        "\n",
        "housing_cat_tr = cat_pipeline.fit_transform(dropCatData(housing_cat))\n",
        "      "
      ],
      "metadata": {
        "id": "xJz4wcFZUOlO"
      },
      "execution_count": 164,
      "outputs": []
    },
    {
      "cell_type": "code",
      "source": [
        "housing_cat_tr.toarray()"
      ],
      "metadata": {
        "colab": {
          "base_uri": "https://localhost:8080/"
        },
        "id": "qM_YBuQBq1xH",
        "outputId": "b500ab0e-213e-48d0-d326-15d061f6061d"
      },
      "execution_count": 91,
      "outputs": [
        {
          "output_type": "execute_result",
          "data": {
            "text/plain": [
              "array([[0.        , 0.        , 0.        , ..., 0.        , 2.63383911,\n",
              "        0.        ],\n",
              "       [0.        , 0.        , 0.        , ..., 0.        , 2.63383911,\n",
              "        0.        ],\n",
              "       [0.        , 0.        , 0.        , ..., 0.        , 2.63383911,\n",
              "        0.        ],\n",
              "       ...,\n",
              "       [0.        , 0.        , 0.        , ..., 0.        , 2.63383911,\n",
              "        0.        ],\n",
              "       [0.        , 0.        , 0.        , ..., 0.        , 2.63383911,\n",
              "        0.        ],\n",
              "       [0.        , 0.        , 0.        , ..., 0.        , 2.63383911,\n",
              "        0.        ]])"
            ]
          },
          "metadata": {},
          "execution_count": 91
        }
      ]
    },
    {
      "cell_type": "markdown",
      "source": [
        "The final composite pipeline implimentation"
      ],
      "metadata": {
        "id": "b8FNhuQP3Ea6"
      }
    },
    {
      "cell_type": "code",
      "metadata": {
        "id": "ju-kzr0LaFb_",
        "colab": {
          "base_uri": "https://localhost:8080/"
        },
        "outputId": "43302dae-78c6-4343-d427-8abf5991d459"
      },
      "source": [
        " # Your code check for missing values, feature scaling, and put all transformation into a pipeline here\n",
        "from sklearn.compose import ColumnTransformer\n",
        "\n",
        "num_attribs = list(housing_nums)\n",
        "print(num_attribs)\n",
        "cat_attribs = list(dropCatData(housing_cat))\n",
        "\n",
        "final_pipeline = ColumnTransformer([\n",
        "    (\"num\", num_pipeline, num_attribs),\n",
        "    (\"cat\", cat_pipeline, cat_attribs),\n",
        "])\n",
        "\n",
        "housing_training_prepared = final_pipeline.fit_transform(train_set)\n",
        "\n",
        "print(train_set.shape)\n",
        "print(housing_training_prepared.shape)"
      ],
      "execution_count": 165,
      "outputs": [
        {
          "output_type": "stream",
          "name": "stdout",
          "text": [
            "['Id', 'MSSubClass', 'LotFrontage', 'LotArea', 'OverallQual', 'OverallCond', 'YearBuilt', 'YearRemodAdd', 'MasVnrArea', 'BsmtFinSF1', 'BsmtFinSF2', 'BsmtUnfSF', 'TotalBsmtSF', '1stFlrSF', '2ndFlrSF', 'LowQualFinSF', 'GrLivArea', 'BsmtFullBath', 'BsmtHalfBath', 'FullBath', 'HalfBath', 'BedroomAbvGr', 'KitchenAbvGr', 'TotRmsAbvGrd', 'Fireplaces', 'GarageYrBlt', 'GarageCars', 'GarageArea', 'WoodDeckSF', 'OpenPorchSF', 'EnclosedPorch', '3SsnPorch', 'ScreenPorch', 'PoolArea', 'MiscVal', 'MoSold', 'YrSold']\n",
            "(1168, 81)\n",
            "(1168, 273)\n"
          ]
        }
      ]
    },
    {
      "cell_type": "markdown",
      "source": [
        "For Debuging step error:\n"
      ],
      "metadata": {
        "id": "7lLrvrFSO5NI"
      }
    },
    {
      "cell_type": "markdown",
      "metadata": {
        "id": "8ExMZjJgaZ7j"
      },
      "source": [
        "## Step 5: Model Selection\n",
        "You should use (at the minimum) the basic ML models which we’ve covered: `LinearRegression`, `DecisionTreeRegressor`, `RandomForestRegressor`. Optionally, you may go for the extra miles by doing some research and try some more advanced models (ie. `Artificial Neural Networks`). You may use `RMSE` as the performance measure.\n",
        "\n",
        "You must use 5-fold CV on the data set to evaluate the performance of your models (following the sample codes on Colab 02).\n"
      ]
    },
    {
      "cell_type": "code",
      "metadata": {
        "id": "waI2JEldacQF",
        "colab": {
          "base_uri": "https://localhost:8080/"
        },
        "outputId": "14a1e746-078e-46e1-ada2-bbc7c7845ea3"
      },
      "source": [
        "# Try a few models here\n",
        "\n",
        "from sklearn.linear_model import LinearRegression\n",
        "line_reg = LinearRegression()\n",
        "line_reg.fit(housing_training_prepared, housing_training_labels)\n",
        "\n",
        "some_data = data_set.iloc[:5]\n",
        "some_labels = housing_training_labels[:5]\n",
        "some_data_prepared = final_pipeline.transform(some_data)\n",
        "\n",
        "print(\"Predictions:\", line_reg.predict(some_data_prepared))"
      ],
      "execution_count": 99,
      "outputs": [
        {
          "output_type": "stream",
          "name": "stdout",
          "text": [
            "Predictions: [205201.6895137  202118.38828294 204509.30837346 160286.2820672\n",
            " 290419.49489944]\n"
          ]
        }
      ]
    },
    {
      "cell_type": "code",
      "source": [
        "print(\"Labels:\", list(some_labels))"
      ],
      "metadata": {
        "colab": {
          "base_uri": "https://localhost:8080/"
        },
        "id": "182pqpzrrlAH",
        "outputId": "5ec30c97-6a04-4bc0-bb23-a0511f2ba621"
      },
      "execution_count": 100,
      "outputs": [
        {
          "output_type": "stream",
          "name": "stdout",
          "text": [
            "Labels: [173500, 194500, 189000, 189000, 230000]\n"
          ]
        }
      ]
    },
    {
      "cell_type": "code",
      "source": [
        "from sklearn.metrics import mean_squared_error\n",
        "\n",
        "housing_predictions = line_reg.predict(housing_training_prepared)\n",
        "line_mse = mean_squared_error(housing_training_labels, housing_predictions)\n",
        "line_rmse = np.sqrt(line_mse)\n",
        "line_rmse"
      ],
      "metadata": {
        "colab": {
          "base_uri": "https://localhost:8080/"
        },
        "id": "ZoK9XeLXrtAp",
        "outputId": "7c556677-c7cc-4db8-8c59-12e6dcc4481d"
      },
      "execution_count": 101,
      "outputs": [
        {
          "output_type": "execute_result",
          "data": {
            "text/plain": [
              "20534.45180880198"
            ]
          },
          "metadata": {},
          "execution_count": 101
        }
      ]
    },
    {
      "cell_type": "code",
      "source": [
        "from sklearn.metrics import mean_absolute_error\n",
        "\n",
        "line_mae = mean_absolute_error(housing_training_labels, housing_predictions)\n",
        "line_mae"
      ],
      "metadata": {
        "colab": {
          "base_uri": "https://localhost:8080/"
        },
        "id": "PABorWxArvbE",
        "outputId": "31e2c1d4-0fee-405c-ea6b-285c97b5ad93"
      },
      "execution_count": 102,
      "outputs": [
        {
          "output_type": "execute_result",
          "data": {
            "text/plain": [
              "13203.303666073498"
            ]
          },
          "metadata": {},
          "execution_count": 102
        }
      ]
    },
    {
      "cell_type": "markdown",
      "source": [
        "Decision Tree with comparisons to linear models"
      ],
      "metadata": {
        "id": "V0fd8q9Arzj6"
      }
    },
    {
      "cell_type": "code",
      "source": [
        "from sklearn.tree import DecisionTreeRegressor\n",
        "\n",
        "tree_reg = DecisionTreeRegressor(random_state=RANDOM_SEED)\n",
        "tree_reg.fit(housing_training_prepared, housing_training_labels)"
      ],
      "metadata": {
        "colab": {
          "base_uri": "https://localhost:8080/"
        },
        "id": "EoH7aYwKr6z-",
        "outputId": "74043830-341f-4dc0-c6ac-aaa321dd13a6"
      },
      "execution_count": 103,
      "outputs": [
        {
          "output_type": "execute_result",
          "data": {
            "text/plain": [
              "DecisionTreeRegressor(random_state=17)"
            ]
          },
          "metadata": {},
          "execution_count": 103
        }
      ]
    },
    {
      "cell_type": "code",
      "source": [
        "housing_predictions = tree_reg.predict(housing_training_prepared)\n",
        "tree_mse = mean_squared_error(housing_training_labels, housing_predictions)\n",
        "tree_rmse = np.sqrt(tree_mse)\n",
        "tree_rmse"
      ],
      "metadata": {
        "colab": {
          "base_uri": "https://localhost:8080/"
        },
        "id": "KA5ZNNq5sHe8",
        "outputId": "0568c2a8-65a3-4bb8-aa21-9134a9021202"
      },
      "execution_count": 104,
      "outputs": [
        {
          "output_type": "execute_result",
          "data": {
            "text/plain": [
              "0.0"
            ]
          },
          "metadata": {},
          "execution_count": 104
        }
      ]
    },
    {
      "cell_type": "code",
      "source": [
        "from sklearn.model_selection import cross_val_score\n",
        "\n",
        "scores = cross_val_score(tree_reg, housing_training_prepared, housing_training_labels, scoring=\"neg_mean_squared_error\", cv=5)\n",
        "tree_rmse_scores = np.sqrt(-scores)"
      ],
      "metadata": {
        "id": "jbAwt_fqsLxc"
      },
      "execution_count": 105,
      "outputs": []
    },
    {
      "cell_type": "code",
      "source": [
        "def display_scores(scores):\n",
        "    print(\"Scores:\", scores)\n",
        "    print(\"Mean:\", scores.mean())\n",
        "    print(\"Standard deviation:\", scores.std())\n",
        "\n",
        "display_scores(tree_rmse_scores)"
      ],
      "metadata": {
        "colab": {
          "base_uri": "https://localhost:8080/"
        },
        "id": "GVxzYLs6sTCC",
        "outputId": "107aa929-7855-43eb-8a37-eb06ae4714b3"
      },
      "execution_count": 106,
      "outputs": [
        {
          "output_type": "stream",
          "name": "stdout",
          "text": [
            "Scores: [45617.7825476  44814.43931192 44508.52660643 41318.69659572\n",
            " 47401.71117862]\n",
            "Mean: 44732.23124805654\n",
            "Standard deviation: 1980.8758143273785\n"
          ]
        }
      ]
    },
    {
      "cell_type": "code",
      "source": [
        "line_scores = cross_val_score(line_reg, housing_training_prepared, housing_training_labels,\n",
        "                             scoring=\"neg_mean_squared_error\", cv=5)\n",
        "line_rmse_scores = np.sqrt(-line_scores)\n",
        "display_scores(line_rmse_scores)"
      ],
      "metadata": {
        "colab": {
          "base_uri": "https://localhost:8080/"
        },
        "id": "z58h_M5osaT8",
        "outputId": "66e69be0-39b7-4b2b-c909-883070eacc2f"
      },
      "execution_count": 107,
      "outputs": [
        {
          "output_type": "stream",
          "name": "stdout",
          "text": [
            "Scores: [40688.84185558 26433.06368874 27040.37174678 37250.08037373\n",
            " 48818.31943746]\n",
            "Mean: 36046.13542045733\n",
            "Standard deviation: 8481.129860138131\n"
          ]
        }
      ]
    },
    {
      "cell_type": "markdown",
      "source": [
        "Random Forest with comparsion to Linear"
      ],
      "metadata": {
        "id": "Hmy5hWOH4q3k"
      }
    },
    {
      "cell_type": "code",
      "source": [
        "# Random forest regressor\n",
        "from sklearn.ensemble import RandomForestRegressor\n",
        "\n",
        "forest_reg = RandomForestRegressor(n_estimators=35, random_state=RANDOM_SEED)\n",
        "forest_reg.fit(housing_training_prepared, housing_training_labels)"
      ],
      "metadata": {
        "colab": {
          "base_uri": "https://localhost:8080/"
        },
        "id": "8ydNg8RQsgyj",
        "outputId": "0fa47322-2755-43ba-b912-a5bf181fdff9"
      },
      "execution_count": 108,
      "outputs": [
        {
          "output_type": "execute_result",
          "data": {
            "text/plain": [
              "RandomForestRegressor(n_estimators=35, random_state=17)"
            ]
          },
          "metadata": {},
          "execution_count": 108
        }
      ]
    },
    {
      "cell_type": "code",
      "source": [
        "housing_predictions = forest_reg.predict(housing_training_prepared)\n",
        "forest_mse = mean_squared_error(housing_training_labels, housing_predictions)\n",
        "forest_rmse = np.sqrt(forest_mse)\n",
        "forest_rmse"
      ],
      "metadata": {
        "colab": {
          "base_uri": "https://localhost:8080/"
        },
        "id": "mOTFg09lsqZq",
        "outputId": "bae21545-2ba5-46c9-bb10-a17168b6f0b3"
      },
      "execution_count": 109,
      "outputs": [
        {
          "output_type": "execute_result",
          "data": {
            "text/plain": [
              "11763.117357182886"
            ]
          },
          "metadata": {},
          "execution_count": 109
        }
      ]
    },
    {
      "cell_type": "code",
      "source": [
        "from sklearn.model_selection import cross_val_score\n",
        "\n",
        "forest_scores = cross_val_score(forest_reg, housing_training_prepared, housing_training_labels,\n",
        "                                scoring=\"neg_mean_squared_error\", cv=5)\n",
        "forest_rmse_scores = np.sqrt(-forest_scores)\n",
        "display_scores(forest_rmse_scores)"
      ],
      "metadata": {
        "colab": {
          "base_uri": "https://localhost:8080/"
        },
        "id": "Ozl6rqXqswCG",
        "outputId": "7828e135-056e-41b5-b09d-5d7b45624592"
      },
      "execution_count": 110,
      "outputs": [
        {
          "output_type": "stream",
          "name": "stdout",
          "text": [
            "Scores: [37439.4343622  25224.69192494 32216.92760212 28212.2472243\n",
            " 35829.53689005]\n",
            "Mean: 31784.56760072121\n",
            "Standard deviation: 4567.705585214908\n"
          ]
        }
      ]
    },
    {
      "cell_type": "code",
      "source": [
        "# cv for linear regression\n",
        "scores = cross_val_score(line_reg, housing_training_prepared, housing_training_labels, scoring=\"neg_mean_squared_error\", cv=5)\n",
        "pd.Series(np.sqrt(-scores)).describe()"
      ],
      "metadata": {
        "colab": {
          "base_uri": "https://localhost:8080/"
        },
        "id": "Ral8s0XFs6qU",
        "outputId": "060d0ee1-3409-4ab4-d58e-29f03094d85d"
      },
      "execution_count": 111,
      "outputs": [
        {
          "output_type": "execute_result",
          "data": {
            "text/plain": [
              "count        5.000000\n",
              "mean     36046.135420\n",
              "std       9482.191447\n",
              "min      26433.063689\n",
              "25%      27040.371747\n",
              "50%      37250.080374\n",
              "75%      40688.841856\n",
              "max      48818.319437\n",
              "dtype: float64"
            ]
          },
          "metadata": {},
          "execution_count": 111
        }
      ]
    },
    {
      "cell_type": "markdown",
      "source": [
        "Random Forst is identified as the optimal algorithm to tune"
      ],
      "metadata": {
        "id": "yN4uByLQ42wW"
      }
    },
    {
      "cell_type": "markdown",
      "metadata": {
        "id": "FFiwPfmZeK2i"
      },
      "source": [
        "## Step 6: Model Tuning\n",
        "\n",
        "In this step, you should attempt to use one of the provided tools for hyperparameter tuning: `GridSearchCV`, `RandomizedSearchCV` to identify the best set of hyperparameters for your model. After tweaking your models, you eventually should report the 5-fold CV RMSE of your tuned model."
      ]
    },
    {
      "cell_type": "code",
      "source": [
        "from sklearn.model_selection import RandomizedSearchCV\n",
        "from scipy.stats import randint\n",
        "\n",
        "param_distribs = {\n",
        "        'n_estimators': randint(low=1, high=250),\n",
        "        'max_features': randint(low=1, high=housing_training_prepared.shape[1]),\n",
        "    }\n",
        "\n",
        "forest_reg = RandomForestRegressor(random_state=RANDOM_SEED)\n",
        "rnd_search = RandomizedSearchCV(forest_reg, param_distributions=param_distribs,\n",
        "                                n_iter=10, cv=5, scoring='neg_mean_squared_error', random_state=RANDOM_SEED)\n",
        "rnd_search.fit(housing_training_prepared, housing_training_labels)"
      ],
      "metadata": {
        "colab": {
          "base_uri": "https://localhost:8080/"
        },
        "id": "Mc9mluWm5Ih3",
        "outputId": "0a54c3c6-ad32-4262-e509-ef89b6a71d79"
      },
      "execution_count": 114,
      "outputs": [
        {
          "output_type": "execute_result",
          "data": {
            "text/plain": [
              "RandomizedSearchCV(cv=5, estimator=RandomForestRegressor(random_state=17),\n",
              "                   param_distributions={'max_features': <scipy.stats._distn_infrastructure.rv_frozen object at 0x7f1818c43d10>,\n",
              "                                        'n_estimators': <scipy.stats._distn_infrastructure.rv_frozen object at 0x7f1818c430d0>},\n",
              "                   random_state=17, scoring='neg_mean_squared_error')"
            ]
          },
          "metadata": {},
          "execution_count": 114
        }
      ]
    },
    {
      "cell_type": "code",
      "source": [
        "cvres = rnd_search.cv_results_\n",
        "for mean_score, params in zip(cvres[\"mean_test_score\"], cvres[\"params\"]):\n",
        "    print(np.sqrt(-mean_score), params)"
      ],
      "metadata": {
        "colab": {
          "base_uri": "https://localhost:8080/"
        },
        "id": "aP1cx6ch5nP0",
        "outputId": "e0688406-c333-4277-9787-ff2eb567d1fa"
      },
      "execution_count": 115,
      "outputs": [
        {
          "output_type": "stream",
          "name": "stdout",
          "text": [
            "30089.907755776258 {'max_features': 112, 'n_estimators': 242}\n",
            "30507.711119037827 {'max_features': 144, 'n_estimators': 135}\n",
            "30865.85078895044 {'max_features': 241, 'n_estimators': 174}\n",
            "30520.950759730462 {'max_features': 32, 'n_estimators': 69}\n",
            "30353.15859141703 {'max_features': 40, 'n_estimators': 213}\n",
            "33654.20228954782 {'max_features': 8, 'n_estimators': 130}\n",
            "33040.989315162005 {'max_features': 239, 'n_estimators': 18}\n",
            "30281.71314498542 {'max_features': 42, 'n_estimators': 185}\n",
            "30857.844169036565 {'max_features': 267, 'n_estimators': 227}\n",
            "30194.262116666003 {'max_features': 132, 'n_estimators': 64}\n"
          ]
        }
      ]
    },
    {
      "cell_type": "markdown",
      "source": [
        "Appears to be a clustering around 100-150 max features and 120-220 max features"
      ],
      "metadata": {
        "id": "re5JXKNR7yCv"
      }
    },
    {
      "cell_type": "code",
      "metadata": {
        "id": "xmXB7iTPdIuu",
        "colab": {
          "base_uri": "https://localhost:8080/"
        },
        "outputId": "15a186ec-8a54-46a1-8813-f93a76b07bf5"
      },
      "source": [
        "from sklearn.model_selection import GridSearchCV\n",
        "\n",
        "param_grid = [\n",
        "    {'n_estimators': [100, 110, 120, 130, 140, 150], 'max_features': [120, 140, 160, 180, 200, 220]},\n",
        "    {'bootstrap': [False], 'n_estimators': [110, 140], 'max_features': [140, 180, 4200]},\n",
        "  ]\n",
        "\n",
        "forest_reg = RandomForestRegressor(random_state=RANDOM_SEED)\n",
        "grid_search = GridSearchCV(forest_reg, param_grid, cv=5,\n",
        "                           scoring='neg_mean_squared_error',\n",
        "                           return_train_score=True)\n",
        "grid_search.fit(housing_training_prepared, housing_training_labels)\n"
      ],
      "execution_count": 116,
      "outputs": [
        {
          "output_type": "stream",
          "name": "stderr",
          "text": [
            "/usr/local/lib/python3.7/dist-packages/sklearn/model_selection/_validation.py:372: FitFailedWarning: \n",
            "10 fits failed out of a total of 210.\n",
            "The score on these train-test partitions for these parameters will be set to nan.\n",
            "If these failures are not expected, you can try to debug them by setting error_score='raise'.\n",
            "\n",
            "Below are more details about the failures:\n",
            "--------------------------------------------------------------------------------\n",
            "10 fits failed with the following error:\n",
            "Traceback (most recent call last):\n",
            "  File \"/usr/local/lib/python3.7/dist-packages/sklearn/model_selection/_validation.py\", line 680, in _fit_and_score\n",
            "    estimator.fit(X_train, y_train, **fit_params)\n",
            "  File \"/usr/local/lib/python3.7/dist-packages/sklearn/ensemble/_forest.py\", line 467, in fit\n",
            "    for i, t in enumerate(trees)\n",
            "  File \"/usr/local/lib/python3.7/dist-packages/joblib/parallel.py\", line 1043, in __call__\n",
            "    if self.dispatch_one_batch(iterator):\n",
            "  File \"/usr/local/lib/python3.7/dist-packages/joblib/parallel.py\", line 861, in dispatch_one_batch\n",
            "    self._dispatch(tasks)\n",
            "  File \"/usr/local/lib/python3.7/dist-packages/joblib/parallel.py\", line 779, in _dispatch\n",
            "    job = self._backend.apply_async(batch, callback=cb)\n",
            "  File \"/usr/local/lib/python3.7/dist-packages/joblib/_parallel_backends.py\", line 208, in apply_async\n",
            "    result = ImmediateResult(func)\n",
            "  File \"/usr/local/lib/python3.7/dist-packages/joblib/_parallel_backends.py\", line 572, in __init__\n",
            "    self.results = batch()\n",
            "  File \"/usr/local/lib/python3.7/dist-packages/joblib/parallel.py\", line 263, in __call__\n",
            "    for func, args, kwargs in self.items]\n",
            "  File \"/usr/local/lib/python3.7/dist-packages/joblib/parallel.py\", line 263, in <listcomp>\n",
            "    for func, args, kwargs in self.items]\n",
            "  File \"/usr/local/lib/python3.7/dist-packages/sklearn/utils/fixes.py\", line 216, in __call__\n",
            "    return self.function(*args, **kwargs)\n",
            "  File \"/usr/local/lib/python3.7/dist-packages/sklearn/ensemble/_forest.py\", line 187, in _parallel_build_trees\n",
            "    tree.fit(X, y, sample_weight=sample_weight, check_input=False)\n",
            "  File \"/usr/local/lib/python3.7/dist-packages/sklearn/tree/_classes.py\", line 1320, in fit\n",
            "    X_idx_sorted=X_idx_sorted,\n",
            "  File \"/usr/local/lib/python3.7/dist-packages/sklearn/tree/_classes.py\", line 308, in fit\n",
            "    raise ValueError(\"max_features must be in (0, n_features]\")\n",
            "ValueError: max_features must be in (0, n_features]\n",
            "\n",
            "  warnings.warn(some_fits_failed_message, FitFailedWarning)\n",
            "/usr/local/lib/python3.7/dist-packages/sklearn/model_selection/_search.py:972: UserWarning: One or more of the test scores are non-finite: [-9.25088494e+08 -9.31053296e+08 -9.21814647e+08 -9.23775620e+08\n",
            " -9.22477096e+08 -9.18766199e+08 -9.25458424e+08 -9.28262560e+08\n",
            " -9.24098872e+08 -9.21844049e+08 -9.26336459e+08 -9.29646417e+08\n",
            " -9.11154729e+08 -9.12376351e+08 -9.07016518e+08 -9.03475953e+08\n",
            " -9.00727647e+08 -9.03034957e+08 -9.03906573e+08 -9.04631403e+08\n",
            " -8.92683761e+08 -8.97985406e+08 -8.96402920e+08 -8.99333213e+08\n",
            " -9.33524224e+08 -9.24475140e+08 -9.16490926e+08 -9.15272390e+08\n",
            " -9.13940755e+08 -9.12457313e+08 -9.39699270e+08 -9.39836824e+08\n",
            " -9.36009927e+08 -9.38875272e+08 -9.31560058e+08 -9.31299679e+08\n",
            " -8.98007221e+08 -8.95627161e+08 -9.80143767e+08 -9.81397071e+08\n",
            "             nan             nan]\n",
            "  category=UserWarning,\n",
            "/usr/local/lib/python3.7/dist-packages/sklearn/model_selection/_search.py:972: UserWarning: One or more of the train scores are non-finite: [-1.40046385e+08 -1.37838910e+08 -1.33621344e+08 -1.31609401e+08\n",
            " -1.30781099e+08 -1.29448269e+08 -1.42091881e+08 -1.40581116e+08\n",
            " -1.36026464e+08 -1.34284477e+08 -1.32349925e+08 -1.30463987e+08\n",
            " -1.43287135e+08 -1.42309597e+08 -1.37053477e+08 -1.35346762e+08\n",
            " -1.33478362e+08 -1.32112053e+08 -1.45057311e+08 -1.41965083e+08\n",
            " -1.37060976e+08 -1.35665885e+08 -1.34466630e+08 -1.33281369e+08\n",
            " -1.49403046e+08 -1.47489220e+08 -1.41831866e+08 -1.39831316e+08\n",
            " -1.38416237e+08 -1.35672443e+08 -1.47450435e+08 -1.45532645e+08\n",
            " -1.40180795e+08 -1.38705479e+08 -1.37490874e+08 -1.35698968e+08\n",
            "  0.00000000e+00  0.00000000e+00  0.00000000e+00  0.00000000e+00\n",
            "             nan             nan]\n",
            "  category=UserWarning,\n"
          ]
        },
        {
          "output_type": "execute_result",
          "data": {
            "text/plain": [
              "GridSearchCV(cv=5, estimator=RandomForestRegressor(random_state=17),\n",
              "             param_grid=[{'max_features': [120, 140, 160, 180, 200, 220],\n",
              "                          'n_estimators': [100, 110, 120, 130, 140, 150]},\n",
              "                         {'bootstrap': [False],\n",
              "                          'max_features': [140, 180, 4200],\n",
              "                          'n_estimators': [110, 140]}],\n",
              "             return_train_score=True, scoring='neg_mean_squared_error')"
            ]
          },
          "metadata": {},
          "execution_count": 116
        }
      ]
    },
    {
      "cell_type": "code",
      "source": [
        "grid_search.best_params_"
      ],
      "metadata": {
        "colab": {
          "base_uri": "https://localhost:8080/"
        },
        "id": "ibwPXWVHtxgT",
        "outputId": "1032750d-0ca3-4404-f0de-af921b11f380"
      },
      "execution_count": 117,
      "outputs": [
        {
          "output_type": "execute_result",
          "data": {
            "text/plain": [
              "{'max_features': 180, 'n_estimators': 120}"
            ]
          },
          "metadata": {},
          "execution_count": 117
        }
      ]
    },
    {
      "cell_type": "code",
      "source": [
        "grid_search.best_estimator_"
      ],
      "metadata": {
        "colab": {
          "base_uri": "https://localhost:8080/"
        },
        "id": "5JnBTTs5t09a",
        "outputId": "86f04fb3-3c60-422d-a1d8-1d60981016b0"
      },
      "execution_count": 118,
      "outputs": [
        {
          "output_type": "execute_result",
          "data": {
            "text/plain": [
              "RandomForestRegressor(max_features=180, n_estimators=120, random_state=17)"
            ]
          },
          "metadata": {},
          "execution_count": 118
        }
      ]
    },
    {
      "cell_type": "code",
      "source": [
        "cvres = grid_search.cv_results_\n",
        "for mean_score, params in zip(cvres[\"mean_test_score\"], cvres[\"params\"]):\n",
        "  print(np.sqrt(-mean_score), params)"
      ],
      "metadata": {
        "colab": {
          "base_uri": "https://localhost:8080/"
        },
        "id": "5aBb2aSBt45O",
        "outputId": "cc864abc-37f8-40ef-a196-b94d4cbb2502"
      },
      "execution_count": 119,
      "outputs": [
        {
          "output_type": "stream",
          "name": "stdout",
          "text": [
            "30415.267457305614 {'max_features': 120, 'n_estimators': 100}\n",
            "30513.165948185917 {'max_features': 120, 'n_estimators': 110}\n",
            "30361.400605891602 {'max_features': 120, 'n_estimators': 120}\n",
            "30393.677310569405 {'max_features': 120, 'n_estimators': 130}\n",
            "30372.308039806532 {'max_features': 120, 'n_estimators': 140}\n",
            "30311.156348674587 {'max_features': 120, 'n_estimators': 150}\n",
            "30421.348165965308 {'max_features': 140, 'n_estimators': 100}\n",
            "30467.40160136713 {'max_features': 140, 'n_estimators': 110}\n",
            "30398.994584306216 {'max_features': 140, 'n_estimators': 120}\n",
            "30361.88481086585 {'max_features': 140, 'n_estimators': 130}\n",
            "30435.775977672387 {'max_features': 140, 'n_estimators': 140}\n",
            "30490.10359800333 {'max_features': 140, 'n_estimators': 150}\n",
            "30185.339634192256 {'max_features': 160, 'n_estimators': 100}\n",
            "30205.56821599621 {'max_features': 160, 'n_estimators': 110}\n",
            "30116.7149290857 {'max_features': 160, 'n_estimators': 120}\n",
            "30057.876728951946 {'max_features': 160, 'n_estimators': 130}\n",
            "30012.12500470471 {'max_features': 160, 'n_estimators': 140}\n",
            "30050.54004515856 {'max_features': 160, 'n_estimators': 150}\n",
            "30065.039042772998 {'max_features': 180, 'n_estimators': 100}\n",
            "30077.091006850682 {'max_features': 180, 'n_estimators': 110}\n",
            "29877.813852059804 {'max_features': 180, 'n_estimators': 120}\n",
            "29966.404620047957 {'max_features': 180, 'n_estimators': 130}\n",
            "29939.98863952377 {'max_features': 180, 'n_estimators': 140}\n",
            "29988.884820891977 {'max_features': 180, 'n_estimators': 150}\n",
            "30553.62865919245 {'max_features': 200, 'n_estimators': 100}\n",
            "30405.182787474703 {'max_features': 200, 'n_estimators': 110}\n",
            "30273.601135269924 {'max_features': 200, 'n_estimators': 120}\n",
            "30253.469056187576 {'max_features': 200, 'n_estimators': 130}\n",
            "30231.45307657491 {'max_features': 200, 'n_estimators': 140}\n",
            "30206.90836881865 {'max_features': 200, 'n_estimators': 150}\n",
            "30654.514675398324 {'max_features': 220, 'n_estimators': 100}\n",
            "30656.75821366481 {'max_features': 220, 'n_estimators': 110}\n",
            "30594.2793105261 {'max_features': 220, 'n_estimators': 120}\n",
            "30641.071652209936 {'max_features': 220, 'n_estimators': 130}\n",
            "30521.468802033603 {'max_features': 220, 'n_estimators': 140}\n",
            "30517.203001164926 {'max_features': 220, 'n_estimators': 150}\n",
            "29966.768615227295 {'bootstrap': False, 'max_features': 140, 'n_estimators': 110}\n",
            "29927.03061098225 {'bootstrap': False, 'max_features': 140, 'n_estimators': 140}\n",
            "31307.247827816955 {'bootstrap': False, 'max_features': 180, 'n_estimators': 110}\n",
            "31327.25764299025 {'bootstrap': False, 'max_features': 180, 'n_estimators': 140}\n",
            "nan {'bootstrap': False, 'max_features': 4200, 'n_estimators': 110}\n",
            "nan {'bootstrap': False, 'max_features': 4200, 'n_estimators': 140}\n"
          ]
        }
      ]
    },
    {
      "cell_type": "markdown",
      "source": [
        "Itterate to Reduce Search Space"
      ],
      "metadata": {
        "id": "b1EGY1JLB0cV"
      }
    },
    {
      "cell_type": "code",
      "source": [
        "param_grid = [\n",
        "    {'n_estimators': [50, 75, 100, 125, 150], 'max_features': [80, 90, 100, 110, 120, 130]},\n",
        "    {'bootstrap': [False], 'n_estimators': [75, 125], 'max_features': [90, 100, 110]},\n",
        "  ]\n",
        "\n",
        "forest_reg = RandomForestRegressor(random_state=RANDOM_SEED)\n",
        "grid_search = GridSearchCV(forest_reg, param_grid, cv=5,\n",
        "                           scoring='neg_mean_squared_error',\n",
        "                           return_train_score=True)\n",
        "grid_search.fit(housing_training_prepared, housing_training_labels)"
      ],
      "metadata": {
        "colab": {
          "base_uri": "https://localhost:8080/"
        },
        "id": "eEikOiMAB4dI",
        "outputId": "adb7e125-75a2-486d-a7b7-2568dbc5653d"
      },
      "execution_count": 120,
      "outputs": [
        {
          "output_type": "execute_result",
          "data": {
            "text/plain": [
              "GridSearchCV(cv=5, estimator=RandomForestRegressor(random_state=17),\n",
              "             param_grid=[{'max_features': [80, 90, 100, 110, 120, 130],\n",
              "                          'n_estimators': [50, 75, 100, 125, 150]},\n",
              "                         {'bootstrap': [False], 'max_features': [90, 100, 110],\n",
              "                          'n_estimators': [75, 125]}],\n",
              "             return_train_score=True, scoring='neg_mean_squared_error')"
            ]
          },
          "metadata": {},
          "execution_count": 120
        }
      ]
    },
    {
      "cell_type": "code",
      "source": [
        "grid_search.best_estimator_"
      ],
      "metadata": {
        "colab": {
          "base_uri": "https://localhost:8080/"
        },
        "id": "Y4wQZaOgCbAa",
        "outputId": "e143b8f9-5a32-4c28-a055-5169a5d7d71e"
      },
      "execution_count": 121,
      "outputs": [
        {
          "output_type": "execute_result",
          "data": {
            "text/plain": [
              "RandomForestRegressor(bootstrap=False, max_features=110, n_estimators=75,\n",
              "                      random_state=17)"
            ]
          },
          "metadata": {},
          "execution_count": 121
        }
      ]
    },
    {
      "cell_type": "code",
      "source": [
        "cvres = grid_search.cv_results_\n",
        "for mean_score, params in zip(cvres[\"mean_test_score\"], cvres[\"params\"]):\n",
        "  print(np.sqrt(-mean_score), params)"
      ],
      "metadata": {
        "colab": {
          "base_uri": "https://localhost:8080/"
        },
        "id": "Eh3xfSrECdv8",
        "outputId": "29f6e699-b838-4293-9ea5-0c7360f4ff51"
      },
      "execution_count": 122,
      "outputs": [
        {
          "output_type": "stream",
          "name": "stdout",
          "text": [
            "31168.59291062997 {'max_features': 80, 'n_estimators': 50}\n",
            "30559.558538792753 {'max_features': 80, 'n_estimators': 75}\n",
            "30431.207862533698 {'max_features': 80, 'n_estimators': 100}\n",
            "30388.987163507398 {'max_features': 80, 'n_estimators': 125}\n",
            "30373.8322031836 {'max_features': 80, 'n_estimators': 150}\n",
            "31104.679037504622 {'max_features': 90, 'n_estimators': 50}\n",
            "31094.080700071467 {'max_features': 90, 'n_estimators': 75}\n",
            "31033.017698740317 {'max_features': 90, 'n_estimators': 100}\n",
            "30665.151937571143 {'max_features': 90, 'n_estimators': 125}\n",
            "30541.69587302485 {'max_features': 90, 'n_estimators': 150}\n",
            "30468.63030612204 {'max_features': 100, 'n_estimators': 50}\n",
            "30431.998814948063 {'max_features': 100, 'n_estimators': 75}\n",
            "30483.047412351454 {'max_features': 100, 'n_estimators': 100}\n",
            "30429.193291896816 {'max_features': 100, 'n_estimators': 125}\n",
            "30439.509047725074 {'max_features': 100, 'n_estimators': 150}\n",
            "30713.452847550725 {'max_features': 110, 'n_estimators': 50}\n",
            "30476.48449045139 {'max_features': 110, 'n_estimators': 75}\n",
            "30517.29722423921 {'max_features': 110, 'n_estimators': 100}\n",
            "30263.66029555768 {'max_features': 110, 'n_estimators': 125}\n",
            "30167.44977342139 {'max_features': 110, 'n_estimators': 150}\n",
            "30710.632550348462 {'max_features': 120, 'n_estimators': 50}\n",
            "30703.91276322915 {'max_features': 120, 'n_estimators': 75}\n",
            "30415.267457305614 {'max_features': 120, 'n_estimators': 100}\n",
            "30307.256723807583 {'max_features': 120, 'n_estimators': 125}\n",
            "30311.156348674587 {'max_features': 120, 'n_estimators': 150}\n",
            "30954.48587776142 {'max_features': 130, 'n_estimators': 50}\n",
            "30629.45725629357 {'max_features': 130, 'n_estimators': 75}\n",
            "30574.03724020431 {'max_features': 130, 'n_estimators': 100}\n",
            "30549.280550464962 {'max_features': 130, 'n_estimators': 125}\n",
            "30314.168701168484 {'max_features': 130, 'n_estimators': 150}\n",
            "29378.060086219382 {'bootstrap': False, 'max_features': 90, 'n_estimators': 75}\n",
            "29529.219819494647 {'bootstrap': False, 'max_features': 90, 'n_estimators': 125}\n",
            "30187.143258123222 {'bootstrap': False, 'max_features': 100, 'n_estimators': 75}\n",
            "29483.630641988137 {'bootstrap': False, 'max_features': 100, 'n_estimators': 125}\n",
            "28756.82730053076 {'bootstrap': False, 'max_features': 110, 'n_estimators': 75}\n",
            "29118.079673412718 {'bootstrap': False, 'max_features': 110, 'n_estimators': 125}\n"
          ]
        }
      ]
    },
    {
      "cell_type": "markdown",
      "source": [
        "These last 2 runs are telling me my max_features is still way to high\n",
        "Itterate Again"
      ],
      "metadata": {
        "id": "qc4ZNNtAFKip"
      }
    },
    {
      "cell_type": "code",
      "source": [
        "param_grid = [\n",
        "    {'n_estimators': [50, 75, 100, 125, 150], 'max_features': [40, 50, 60, 70, 80, 90]},\n",
        "    {'bootstrap': [False], 'n_estimators': [75, 125], 'max_features': [50, 60, 70]},\n",
        "  ]\n",
        "\n",
        "forest_reg = RandomForestRegressor(random_state=RANDOM_SEED)\n",
        "grid_search = GridSearchCV(forest_reg, param_grid, cv=5,\n",
        "                           scoring='neg_mean_squared_error',\n",
        "                           return_train_score=True)\n",
        "grid_search.fit(housing_training_prepared, housing_training_labels)"
      ],
      "metadata": {
        "colab": {
          "base_uri": "https://localhost:8080/"
        },
        "id": "hWwRYs9qFWH4",
        "outputId": "c158c7f3-a554-4b17-cdfd-e949e0454b34"
      },
      "execution_count": 125,
      "outputs": [
        {
          "output_type": "execute_result",
          "data": {
            "text/plain": [
              "GridSearchCV(cv=5, estimator=RandomForestRegressor(random_state=17),\n",
              "             param_grid=[{'max_features': [40, 50, 60, 70, 80, 90],\n",
              "                          'n_estimators': [50, 75, 100, 125, 150]},\n",
              "                         {'bootstrap': [False], 'max_features': [50, 60, 70],\n",
              "                          'n_estimators': [75, 125]}],\n",
              "             return_train_score=True, scoring='neg_mean_squared_error')"
            ]
          },
          "metadata": {},
          "execution_count": 125
        }
      ]
    },
    {
      "cell_type": "code",
      "source": [
        "grid_search.best_estimator_"
      ],
      "metadata": {
        "colab": {
          "base_uri": "https://localhost:8080/"
        },
        "id": "CAZwG7s9FZPH",
        "outputId": "9ffa167f-dc8c-4357-efb2-32be2cd3578e"
      },
      "execution_count": 126,
      "outputs": [
        {
          "output_type": "execute_result",
          "data": {
            "text/plain": [
              "RandomForestRegressor(bootstrap=False, max_features=50, n_estimators=125,\n",
              "                      random_state=17)"
            ]
          },
          "metadata": {},
          "execution_count": 126
        }
      ]
    },
    {
      "cell_type": "code",
      "source": [
        "cvres = grid_search.cv_results_\n",
        "for mean_score, params in zip(cvres[\"mean_test_score\"], cvres[\"params\"]):\n",
        "  print(np.sqrt(-mean_score), params)"
      ],
      "metadata": {
        "colab": {
          "base_uri": "https://localhost:8080/"
        },
        "id": "p-zEemKWFdUl",
        "outputId": "92e1ff94-062e-47e3-bd0a-d11ee4fa427f"
      },
      "execution_count": 127,
      "outputs": [
        {
          "output_type": "stream",
          "name": "stdout",
          "text": [
            "30833.51471542082 {'max_features': 40, 'n_estimators': 50}\n",
            "30505.02041574977 {'max_features': 40, 'n_estimators': 75}\n",
            "30418.441691681306 {'max_features': 40, 'n_estimators': 100}\n",
            "30281.163861935882 {'max_features': 40, 'n_estimators': 125}\n",
            "30183.010651994653 {'max_features': 40, 'n_estimators': 150}\n",
            "31345.535553803613 {'max_features': 50, 'n_estimators': 50}\n",
            "30838.16369108653 {'max_features': 50, 'n_estimators': 75}\n",
            "30447.25483049891 {'max_features': 50, 'n_estimators': 100}\n",
            "30380.708809140684 {'max_features': 50, 'n_estimators': 125}\n",
            "30302.99789410786 {'max_features': 50, 'n_estimators': 150}\n",
            "30567.60886357641 {'max_features': 60, 'n_estimators': 50}\n",
            "29968.61224006374 {'max_features': 60, 'n_estimators': 75}\n",
            "30148.260581242896 {'max_features': 60, 'n_estimators': 100}\n",
            "30298.058419655044 {'max_features': 60, 'n_estimators': 125}\n",
            "30228.022867509902 {'max_features': 60, 'n_estimators': 150}\n",
            "30900.440080066513 {'max_features': 70, 'n_estimators': 50}\n",
            "30551.107170804415 {'max_features': 70, 'n_estimators': 75}\n",
            "30357.764343628798 {'max_features': 70, 'n_estimators': 100}\n",
            "30392.683266510066 {'max_features': 70, 'n_estimators': 125}\n",
            "30355.89572328569 {'max_features': 70, 'n_estimators': 150}\n",
            "31168.59291062997 {'max_features': 80, 'n_estimators': 50}\n",
            "30559.558538792753 {'max_features': 80, 'n_estimators': 75}\n",
            "30431.207862533698 {'max_features': 80, 'n_estimators': 100}\n",
            "30388.987163507398 {'max_features': 80, 'n_estimators': 125}\n",
            "30373.8322031836 {'max_features': 80, 'n_estimators': 150}\n",
            "31104.679037504622 {'max_features': 90, 'n_estimators': 50}\n",
            "31094.080700071467 {'max_features': 90, 'n_estimators': 75}\n",
            "31033.017698740317 {'max_features': 90, 'n_estimators': 100}\n",
            "30665.151937571143 {'max_features': 90, 'n_estimators': 125}\n",
            "30541.69587302485 {'max_features': 90, 'n_estimators': 150}\n",
            "29056.484662115265 {'bootstrap': False, 'max_features': 50, 'n_estimators': 75}\n",
            "28839.789012935205 {'bootstrap': False, 'max_features': 50, 'n_estimators': 125}\n",
            "29192.254317847757 {'bootstrap': False, 'max_features': 60, 'n_estimators': 75}\n",
            "28909.69498355902 {'bootstrap': False, 'max_features': 60, 'n_estimators': 125}\n",
            "29137.949496113964 {'bootstrap': False, 'max_features': 70, 'n_estimators': 75}\n",
            "28924.235009369113 {'bootstrap': False, 'max_features': 70, 'n_estimators': 125}\n"
          ]
        }
      ]
    },
    {
      "cell_type": "markdown",
      "source": [
        "Now itterate on best n_estimators"
      ],
      "metadata": {
        "id": "CPyrJJPYIFdc"
      }
    },
    {
      "cell_type": "code",
      "source": [
        "param_grid = [\n",
        "    {'n_estimators': [10, 20, 30, 40, 50], 'max_features': [40, 45, 50, 55, 60]},\n",
        "    {'bootstrap': [False], 'n_estimators': [20, 40], 'max_features': [45, 50, 55]},\n",
        "  ]\n",
        "\n",
        "forest_reg = RandomForestRegressor(random_state=RANDOM_SEED)\n",
        "grid_search = GridSearchCV(forest_reg, param_grid, cv=5,\n",
        "                           scoring='neg_mean_squared_error',\n",
        "                           return_train_score=True)\n",
        "grid_search.fit(housing_training_prepared, housing_training_labels)"
      ],
      "metadata": {
        "colab": {
          "base_uri": "https://localhost:8080/"
        },
        "id": "g_OB7E_xIJtk",
        "outputId": "5a6954d5-aa88-42c6-ed8e-4f40e8ec318a"
      },
      "execution_count": 128,
      "outputs": [
        {
          "output_type": "execute_result",
          "data": {
            "text/plain": [
              "GridSearchCV(cv=5, estimator=RandomForestRegressor(random_state=17),\n",
              "             param_grid=[{'max_features': [40, 45, 50, 55, 60],\n",
              "                          'n_estimators': [10, 20, 30, 40, 50]},\n",
              "                         {'bootstrap': [False], 'max_features': [45, 50, 55],\n",
              "                          'n_estimators': [20, 40]}],\n",
              "             return_train_score=True, scoring='neg_mean_squared_error')"
            ]
          },
          "metadata": {},
          "execution_count": 128
        }
      ]
    },
    {
      "cell_type": "code",
      "source": [
        "grid_search.best_estimator_"
      ],
      "metadata": {
        "colab": {
          "base_uri": "https://localhost:8080/"
        },
        "id": "mzvOkmhkIfkC",
        "outputId": "e1433bc3-7fec-4add-ae1b-fbfd9a1c3761"
      },
      "execution_count": 129,
      "outputs": [
        {
          "output_type": "execute_result",
          "data": {
            "text/plain": [
              "RandomForestRegressor(bootstrap=False, max_features=50, n_estimators=40,\n",
              "                      random_state=17)"
            ]
          },
          "metadata": {},
          "execution_count": 129
        }
      ]
    },
    {
      "cell_type": "code",
      "source": [
        "cvres = grid_search.cv_results_\n",
        "for mean_score, params in zip(cvres[\"mean_test_score\"], cvres[\"params\"]):\n",
        "  print(np.sqrt(-mean_score), params)"
      ],
      "metadata": {
        "colab": {
          "base_uri": "https://localhost:8080/"
        },
        "id": "JC9lpZr9IjDf",
        "outputId": "a5afe9f9-6418-43ce-b514-34b7901d8d6a"
      },
      "execution_count": 130,
      "outputs": [
        {
          "output_type": "stream",
          "name": "stdout",
          "text": [
            "32081.304508943937 {'max_features': 40, 'n_estimators': 10}\n",
            "31963.778830283598 {'max_features': 40, 'n_estimators': 20}\n",
            "31057.55367326506 {'max_features': 40, 'n_estimators': 30}\n",
            "30792.014034119224 {'max_features': 40, 'n_estimators': 40}\n",
            "30833.51471542082 {'max_features': 40, 'n_estimators': 50}\n",
            "34155.70925189843 {'max_features': 45, 'n_estimators': 10}\n",
            "32600.035401783276 {'max_features': 45, 'n_estimators': 20}\n",
            "31685.273948162114 {'max_features': 45, 'n_estimators': 30}\n",
            "31006.279553721764 {'max_features': 45, 'n_estimators': 40}\n",
            "30878.84292060734 {'max_features': 45, 'n_estimators': 50}\n",
            "33962.50109544289 {'max_features': 50, 'n_estimators': 10}\n",
            "32630.155660927245 {'max_features': 50, 'n_estimators': 20}\n",
            "31501.553193800715 {'max_features': 50, 'n_estimators': 30}\n",
            "31663.781154565462 {'max_features': 50, 'n_estimators': 40}\n",
            "31345.535553803613 {'max_features': 50, 'n_estimators': 50}\n",
            "31278.934674796288 {'max_features': 55, 'n_estimators': 10}\n",
            "31237.40368909398 {'max_features': 55, 'n_estimators': 20}\n",
            "31044.239055814276 {'max_features': 55, 'n_estimators': 30}\n",
            "31225.283024584136 {'max_features': 55, 'n_estimators': 40}\n",
            "30960.05669669345 {'max_features': 55, 'n_estimators': 50}\n",
            "32126.08309286743 {'max_features': 60, 'n_estimators': 10}\n",
            "31389.171669488132 {'max_features': 60, 'n_estimators': 20}\n",
            "31189.47198839334 {'max_features': 60, 'n_estimators': 30}\n",
            "30954.207239682906 {'max_features': 60, 'n_estimators': 40}\n",
            "30567.60886357641 {'max_features': 60, 'n_estimators': 50}\n",
            "30650.797937515774 {'bootstrap': False, 'max_features': 45, 'n_estimators': 20}\n",
            "30346.723002504474 {'bootstrap': False, 'max_features': 45, 'n_estimators': 40}\n",
            "29998.609082988027 {'bootstrap': False, 'max_features': 50, 'n_estimators': 20}\n",
            "29239.289193147608 {'bootstrap': False, 'max_features': 50, 'n_estimators': 40}\n",
            "30060.239850050802 {'bootstrap': False, 'max_features': 55, 'n_estimators': 20}\n",
            "29287.006841622566 {'bootstrap': False, 'max_features': 55, 'n_estimators': 40}\n"
          ]
        }
      ]
    },
    {
      "cell_type": "markdown",
      "source": [
        "I consider this level of hyper parameter opmimization optimal"
      ],
      "metadata": {
        "id": "66FP7zbyJO17"
      }
    },
    {
      "cell_type": "code",
      "source": [
        "feature_importances = grid_search.best_estimator_.feature_importances_\n",
        "feature_importances"
      ],
      "metadata": {
        "colab": {
          "base_uri": "https://localhost:8080/"
        },
        "id": "YXg7AGv6vn0q",
        "outputId": "ad689020-284e-4149-82bf-4fa11f64808f"
      },
      "execution_count": 131,
      "outputs": [
        {
          "output_type": "execute_result",
          "data": {
            "text/plain": [
              "array([3.30585521e-03, 3.08599593e-03, 9.71863094e-03, 1.52620730e-02,\n",
              "       1.56624447e-01, 3.61381966e-03, 5.46110779e-02, 1.92956170e-02,\n",
              "       8.82009801e-03, 1.68823424e-02, 6.63678610e-04, 6.24748040e-03,\n",
              "       9.17503186e-02, 5.66152803e-02, 3.09260344e-02, 2.15178588e-04,\n",
              "       1.12455571e-01, 2.04544874e-03, 1.43011154e-04, 1.49578984e-02,\n",
              "       3.40638203e-03, 4.62302193e-03, 7.50273397e-04, 8.14968224e-03,\n",
              "       1.41319236e-02, 1.31736643e-02, 9.55252905e-02, 4.49621731e-02,\n",
              "       3.53833235e-03, 7.11451059e-03, 1.00757301e-03, 2.95706660e-04,\n",
              "       9.06757371e-04, 1.50095969e-03, 1.36829051e-04, 2.92113853e-03,\n",
              "       1.93883785e-03, 3.07095368e-04, 2.28459453e-04, 7.37132018e-05,\n",
              "       1.43163962e-03, 2.04835526e-03, 7.05093099e-06, 4.96707112e-06,\n",
              "       6.57567601e-04, 7.74975076e-04, 4.02593876e-04, 1.01169943e-03,\n",
              "       1.93326021e-03, 6.37330583e-04, 3.64811694e-04, 8.96924762e-04,\n",
              "       0.00000000e+00, 3.24784044e-04, 3.79833742e-04, 1.08152902e-04,\n",
              "       2.62132130e-05, 3.62786526e-04, 7.40965564e-04, 5.42483861e-04,\n",
              "       4.37762844e-04, 2.74250642e-05, 2.81012107e-06, 6.84113116e-06,\n",
              "       1.03758086e-04, 4.23990651e-04, 2.69359725e-04, 1.11072226e-03,\n",
              "       1.41732851e-03, 1.36715495e-04, 9.66515419e-05, 2.82296549e-05,\n",
              "       7.45435079e-05, 2.78035065e-04, 2.65910551e-06, 1.89192560e-04,\n",
              "       5.02892211e-03, 7.86716295e-04, 7.15790500e-04, 6.03426981e-05,\n",
              "       9.34375917e-05, 4.30717989e-05, 4.14544247e-04, 5.70445685e-04,\n",
              "       7.99023621e-05, 4.88830075e-05, 9.40427485e-05, 1.35007345e-04,\n",
              "       3.44449373e-04, 4.84787509e-05, 1.64686705e-04, 4.95365301e-05,\n",
              "       1.93477566e-05, 7.80668922e-06, 4.21840544e-07, 2.55580608e-05,\n",
              "       2.40446013e-05, 3.40579534e-05, 1.40613515e-06, 2.36269627e-04,\n",
              "       0.00000000e+00, 6.12347952e-09, 6.73594683e-04, 5.17613070e-05,\n",
              "       5.51199534e-04, 2.12772904e-05, 1.21979705e-04, 2.84538580e-04,\n",
              "       1.52264566e-05, 9.53291238e-04, 6.28387908e-05, 4.02927902e-06,\n",
              "       1.26632603e-03, 1.63028864e-05, 1.00592177e-04, 1.92616243e-04,\n",
              "       7.44882392e-04, 9.41636034e-05, 1.39012471e-03, 1.50424891e-05,\n",
              "       7.44126720e-07, 0.00000000e+00, 2.83564384e-04, 2.70658304e-05,\n",
              "       8.12746115e-08, 5.72691832e-05, 1.13088480e-04, 3.37472435e-07,\n",
              "       2.65999986e-05, 0.00000000e+00, 8.81115678e-05, 9.62591901e-04,\n",
              "       7.81165123e-07, 3.50821819e-04, 9.03228982e-04, 3.06005006e-05,\n",
              "       2.36122181e-04, 2.40183490e-04, 2.76063391e-05, 1.63247685e-04,\n",
              "       4.58405312e-04, 1.08250120e-03, 1.30191635e-05, 5.36885859e-06,\n",
              "       7.79201472e-07, 1.40538439e-04, 3.10778027e-04, 4.82383882e-08,\n",
              "       6.54609491e-04, 6.47265141e-04, 6.62792882e-05, 6.15755253e-04,\n",
              "       5.63116234e-05, 1.36680692e-04, 2.96430499e-05, 8.58277172e-04,\n",
              "       4.84423831e-04, 2.11880638e-04, 6.62578041e-05, 8.30174917e-05,\n",
              "       3.13929859e-04, 5.91509417e-04, 8.01858169e-04, 3.45458327e-03,\n",
              "       6.47893247e-04, 6.77383792e-03, 5.29385052e-02, 2.42980153e-07,\n",
              "       5.41875072e-04, 2.89832242e-04, 1.83169706e-05, 2.61725479e-04,\n",
              "       2.83958947e-04, 5.79382507e-04, 2.43819266e-03, 4.86294550e-05,\n",
              "       1.53565229e-06, 5.00948229e-06, 1.75420807e-02, 7.65245552e-05,\n",
              "       6.48619716e-03, 4.62945313e-03, 2.54289910e-04, 1.69803208e-04,\n",
              "       5.74235252e-06, 1.62244793e-04, 3.92074291e-04, 1.29536479e-03,\n",
              "       4.44230428e-04, 7.52742657e-04, 3.41671729e-04, 9.75373177e-05,\n",
              "       1.30523836e-03, 1.00157878e-04, 2.11228344e-04, 1.14431656e-03,\n",
              "       7.26723955e-05, 6.58538297e-05, 2.73428780e-05, 6.32595605e-05,\n",
              "       1.86207933e-04, 3.19168262e-04, 1.99498223e-06, 1.84370381e-04,\n",
              "       8.75401276e-05, 1.55307627e-05, 1.87049464e-04, 6.40096342e-07,\n",
              "       6.29470561e-04, 1.63401845e-04, 2.74342159e-04, 3.88771058e-07,\n",
              "       4.53340618e-04, 2.53488356e-03, 2.09294676e-03, 1.36080884e-04,\n",
              "       3.52335181e-05, 6.88158922e-06, 1.35129588e-07, 1.76994923e-04,\n",
              "       1.44284355e-03, 1.25345383e-04, 1.62550314e-03, 5.65926431e-03,\n",
              "       1.10987616e-04, 5.27057308e-05, 7.20869477e-05, 6.17868819e-05,\n",
              "       1.59522951e-04, 0.00000000e+00, 3.69203358e-04, 2.77002133e-04,\n",
              "       7.88900245e-05, 4.71137729e-04, 3.69600463e-05, 5.91867438e-04,\n",
              "       1.00895730e-04, 9.37214756e-04, 4.03294361e-05, 4.32075467e-04,\n",
              "       4.69154919e-05, 1.58790506e-03, 6.04321197e-04, 5.36409566e-04,\n",
              "       1.07960798e-02, 5.15967811e-04, 7.19009734e-05, 1.68171530e-05,\n",
              "       7.45053524e-06, 2.20288874e-04, 4.50947542e-07, 1.80387315e-04,\n",
              "       5.14963555e-05, 1.76221350e-05, 5.40290726e-05, 1.84760887e-04,\n",
              "       7.14971165e-05, 4.17027719e-04, 5.06493557e-05, 1.34886480e-05,\n",
              "       1.37631092e-05, 7.34108272e-06, 8.49339329e-06, 3.35037801e-06,\n",
              "       5.21382725e-04, 1.12900093e-05, 9.60197091e-04, 7.06848950e-04,\n",
              "       1.05721054e-05, 1.62939888e-04, 4.88587389e-04, 6.25022994e-04,\n",
              "       1.05622143e-03])"
            ]
          },
          "metadata": {},
          "execution_count": 131
        }
      ]
    },
    {
      "cell_type": "code",
      "source": [
        "sorted(zip(feature_importances, list(data_set)))"
      ],
      "metadata": {
        "colab": {
          "base_uri": "https://localhost:8080/"
        },
        "id": "f2eAyi36vruZ",
        "outputId": "0d29dd69-10bd-44c3-f03f-6a6ef5f75fc0"
      },
      "execution_count": 132,
      "outputs": [
        {
          "output_type": "execute_result",
          "data": {
            "text/plain": [
              "[(0.0, 'KitchenAbvGr'),\n",
              " (2.65910550698201e-06, 'MiscFeature'),\n",
              " (2.8101210749101322e-06, 'GarageArea'),\n",
              " (4.967071115735749e-06, '1stFlrSF'),\n",
              " (6.841131161275182e-06, 'GarageQual'),\n",
              " (7.050930992191101e-06, 'Electrical'),\n",
              " (2.621321301079814e-05, 'Fireplaces'),\n",
              " (2.742506422576919e-05, 'GarageCars'),\n",
              " (2.822965487104258e-05, 'PoolArea'),\n",
              " (6.0342698091481376e-05, 'SaleCondition'),\n",
              " (7.371320184171739e-05, 'Heating'),\n",
              " (7.454350788816078e-05, 'PoolQC'),\n",
              " (9.343759167287017e-05, 'SalePrice'),\n",
              " (9.66515418960309e-05, 'ScreenPorch'),\n",
              " (0.00010375808564933916, 'GarageCond'),\n",
              " (0.00010815290202261683, 'Functional'),\n",
              " (0.00013671549486265845, '3SsnPorch'),\n",
              " (0.0001368290513400412, 'BsmtFinSF1'),\n",
              " (0.0001430111537690176, 'OverallCond'),\n",
              " (0.00018919255960350638, 'MiscVal'),\n",
              " (0.00021517858823117612, 'BldgType'),\n",
              " (0.0002284594532448616, 'TotalBsmtSF'),\n",
              " (0.0002693597245552353, 'WoodDeckSF'),\n",
              " (0.00027803506538414134, 'Fence'),\n",
              " (0.0002957066600781955, 'BsmtCond'),\n",
              " (0.00030709536820348177, 'BsmtUnfSF'),\n",
              " (0.000324784043767664, 'KitchenQual'),\n",
              " (0.00036278652620826845, 'FireplaceQu'),\n",
              " (0.0003648116944394051, 'HalfBath'),\n",
              " (0.0003798337421493589, 'TotRmsAbvGrd'),\n",
              " (0.0004025938763229491, 'GrLivArea'),\n",
              " (0.0004239906512937322, 'PavedDrive'),\n",
              " (0.0004377628440539741, 'GarageFinish'),\n",
              " (0.0005424838608560414, 'GarageYrBlt'),\n",
              " (0.0006373305829496057, 'FullBath'),\n",
              " (0.0006575676006434856, '2ndFlrSF'),\n",
              " (0.0006636786095059069, 'LotConfig'),\n",
              " (0.0007157905004597457, 'SaleType'),\n",
              " (0.00074096556386969, 'GarageType'),\n",
              " (0.0007502733968274796, 'RoofMatl'),\n",
              " (0.0007749750756038803, 'LowQualFinSF'),\n",
              " (0.0007867162951122443, 'YrSold'),\n",
              " (0.0008969247617897187, 'BedroomAbvGr'),\n",
              " (0.0009067573708499636, 'BsmtExposure'),\n",
              " (0.0010075730060694706, 'BsmtQual'),\n",
              " (0.001011699431468709, 'BsmtFullBath'),\n",
              " (0.0011107222635983387, 'OpenPorchSF'),\n",
              " (0.001417328511061218, 'EnclosedPorch'),\n",
              " (0.0014316396196379195, 'HeatingQC'),\n",
              " (0.001500959685668729, 'BsmtFinType1'),\n",
              " (0.0019332602074106128, 'BsmtHalfBath'),\n",
              " (0.0019388378499901326, 'BsmtFinSF2'),\n",
              " (0.00204544874299237, 'OverallQual'),\n",
              " (0.0020483552586988444, 'CentralAir'),\n",
              " (0.002921138534880104, 'BsmtFinType2'),\n",
              " (0.0030859959273388696, 'MSSubClass'),\n",
              " (0.003305855212970751, 'Id'),\n",
              " (0.0034063820289097248, 'YearRemodAdd'),\n",
              " (0.003538332354745723, 'ExterCond'),\n",
              " (0.0036138196646346072, 'Street'),\n",
              " (0.004623021931204829, 'RoofStyle'),\n",
              " (0.005028922108818463, 'MoSold'),\n",
              " (0.00624748039719097, 'LandSlope'),\n",
              " (0.007114510591727413, 'Foundation'),\n",
              " (0.008149682242058419, 'Exterior1st'),\n",
              " (0.008820098006497972, 'LandContour'),\n",
              " (0.00971863093796373, 'MSZoning'),\n",
              " (0.013173664348058972, 'MasVnrType'),\n",
              " (0.014131923550702644, 'Exterior2nd'),\n",
              " (0.014957898446214526, 'YearBuilt'),\n",
              " (0.01526207301189455, 'LotFrontage'),\n",
              " (0.016882342428907078, 'Utilities'),\n",
              " (0.019295617021750516, 'LotShape'),\n",
              " (0.03092603436098907, 'Condition2'),\n",
              " (0.044962173128923685, 'ExterQual'),\n",
              " (0.05461107792314751, 'Alley'),\n",
              " (0.05661528034682055, 'Condition1'),\n",
              " (0.09175031861230086, 'Neighborhood'),\n",
              " (0.09552529050286132, 'MasVnrArea'),\n",
              " (0.1124555708618353, 'HouseStyle'),\n",
              " (0.15662444705438203, 'LotArea')]"
            ]
          },
          "metadata": {},
          "execution_count": 132
        }
      ]
    },
    {
      "cell_type": "markdown",
      "source": [
        "Generate Final Evaluation metrics from test set\n",
        "\n",
        "SO turns out I do not know how to do grid search well...\n",
        "But can use incites to guide random"
      ],
      "metadata": {
        "id": "MHaTJYi5JevK"
      }
    },
    {
      "cell_type": "code",
      "source": [
        "from sklearn.model_selection import RandomizedSearchCV\n",
        "from scipy.stats import randint\n",
        "\n",
        "param_distribs = {\n",
        "        'n_estimators': randint(low=40, high=150),\n",
        "        'max_features': randint(low=1, high=housing_training_prepared.shape[1]),\n",
        "    }\n",
        "\n",
        "forest_reg = RandomForestRegressor(random_state=RANDOM_SEED)\n",
        "rnd_search = RandomizedSearchCV(forest_reg, param_distributions=param_distribs,\n",
        "                                n_iter=10, cv=5, scoring='neg_mean_squared_error', random_state=RANDOM_SEED)\n",
        "rnd_search.fit(housing_training_prepared, housing_training_labels)"
      ],
      "metadata": {
        "colab": {
          "base_uri": "https://localhost:8080/"
        },
        "id": "-Z-XTgOFQa33",
        "outputId": "30c92a57-5be5-4a71-d1f4-4805b37b5f23"
      },
      "execution_count": 169,
      "outputs": [
        {
          "output_type": "execute_result",
          "data": {
            "text/plain": [
              "RandomizedSearchCV(cv=5, estimator=RandomForestRegressor(random_state=17),\n",
              "                   param_distributions={'max_features': <scipy.stats._distn_infrastructure.rv_frozen object at 0x7f1818af7a50>,\n",
              "                                        'n_estimators': <scipy.stats._distn_infrastructure.rv_frozen object at 0x7f1818af7250>},\n",
              "                   random_state=17, scoring='neg_mean_squared_error')"
            ]
          },
          "metadata": {},
          "execution_count": 169
        }
      ]
    },
    {
      "cell_type": "code",
      "source": [
        "final_model = rnd_search.best_estimator_\n",
        "\n",
        "X_test = test_set.drop(\"SalePrice\", axis=1)\n",
        "y_test = test_set[\"SalePrice\"].tolist()\n",
        "\n",
        "X_test_prepared = final_pipeline.transform(X_test)\n",
        "final_predictions = final_model.predict(X_test_prepared)\n",
        "\n",
        "final_mse = mean_squared_error(y_test, final_predictions)\n",
        "final_rmse = np.sqrt(final_mse)\n",
        "final_rmse"
      ],
      "metadata": {
        "colab": {
          "base_uri": "https://localhost:8080/"
        },
        "id": "st32wzuhv2Zh",
        "outputId": "a657a7b2-4bd2-42a6-f4b7-e32ce27b57a6"
      },
      "execution_count": 170,
      "outputs": [
        {
          "output_type": "execute_result",
          "data": {
            "text/plain": [
              "26688.836398205007"
            ]
          },
          "metadata": {},
          "execution_count": 170
        }
      ]
    },
    {
      "cell_type": "code",
      "source": [
        "from sklearn.metrics import mean_absolute_error\n",
        "\n",
        "line_mae = mean_absolute_error(y_test, final_predictions)\n",
        "line_mae"
      ],
      "metadata": {
        "colab": {
          "base_uri": "https://localhost:8080/"
        },
        "id": "8Ic8hvJFv-ww",
        "outputId": "b86ebe3e-bd67-49ae-af4f-6b8b2f0e130d"
      },
      "execution_count": 171,
      "outputs": [
        {
          "output_type": "execute_result",
          "data": {
            "text/plain": [
              "16869.245315860975"
            ]
          },
          "metadata": {},
          "execution_count": 171
        }
      ]
    },
    {
      "cell_type": "code",
      "source": [
        "from scipy import stats\n",
        "\n",
        "confidence = 0.95\n",
        "squared_errors = (final_predictions - y_test) ** 2\n",
        "np.sqrt(stats.t.interval(confidence, len(squared_errors) - 1,\n",
        "                         loc=squared_errors.mean(),\n",
        "                         scale=stats.sem(squared_errors)))"
      ],
      "metadata": {
        "colab": {
          "base_uri": "https://localhost:8080/"
        },
        "id": "5c9PAb0ewDH8",
        "outputId": "26b5f237-3440-491d-fcb9-1320bf66b735"
      },
      "execution_count": 172,
      "outputs": [
        {
          "output_type": "execute_result",
          "data": {
            "text/plain": [
              "array([21107.18635207, 31290.16875761])"
            ]
          },
          "metadata": {},
          "execution_count": 172
        }
      ]
    },
    {
      "cell_type": "code",
      "source": [
        "feature_importances = rnd_search.best_estimator_.feature_importances_\n",
        "sorted(zip(feature_importances, list(data_set)))"
      ],
      "metadata": {
        "colab": {
          "base_uri": "https://localhost:8080/"
        },
        "id": "6H9I5i46TU3Y",
        "outputId": "b89042cb-5299-4a3b-fa74-ea675a49c5c9"
      },
      "execution_count": 174,
      "outputs": [
        {
          "output_type": "execute_result",
          "data": {
            "text/plain": [
              "[(0.0, 'KitchenAbvGr'),\n",
              " (2.760943162763064e-06, 'GarageArea'),\n",
              " (7.2917703321588625e-06, '1stFlrSF'),\n",
              " (1.1877513408052764e-05, 'GarageQual'),\n",
              " (2.0692143021322722e-05, 'Heating'),\n",
              " (2.206201012522941e-05, 'MiscFeature'),\n",
              " (2.5127764873853665e-05, 'PoolArea'),\n",
              " (3.5367875015061834e-05, 'Electrical'),\n",
              " (4.333239208617424e-05, 'GarageCars'),\n",
              " (4.384304304328047e-05, 'Fireplaces'),\n",
              " (6.634148569752217e-05, 'Functional'),\n",
              " (7.258900626676832e-05, 'SaleCondition'),\n",
              " (8.988314935138475e-05, 'ScreenPorch'),\n",
              " (9.107738850658836e-05, 'SalePrice'),\n",
              " (9.199484549347985e-05, 'PoolQC'),\n",
              " (9.410806002872448e-05, 'GarageCond'),\n",
              " (9.533635623727018e-05, '3SsnPorch'),\n",
              " (0.00011283713963792041, 'TotalBsmtSF'),\n",
              " (0.0001459297233686614, 'BsmtFinSF1'),\n",
              " (0.0001580955939240692, 'MiscVal'),\n",
              " (0.00016145286165275677, 'GrLivArea'),\n",
              " (0.00017699903479055401, 'BsmtUnfSF'),\n",
              " (0.0002122771502659013, 'WoodDeckSF'),\n",
              " (0.0002192277662333513, 'BldgType'),\n",
              " (0.0002363650855335925, 'BsmtCond'),\n",
              " (0.0002575190552577798, 'GarageFinish'),\n",
              " (0.00026735409402317155, 'OverallCond'),\n",
              " (0.0002749875634877668, 'TotRmsAbvGrd'),\n",
              " (0.00027624263562516654, 'GarageYrBlt'),\n",
              " (0.000289389033630161, 'LowQualFinSF'),\n",
              " (0.00033691630420691995, 'PavedDrive'),\n",
              " (0.0003551568735574268, 'KitchenQual'),\n",
              " (0.0003632348573997739, 'SaleType'),\n",
              " (0.0003662052901003614, 'Fence'),\n",
              " (0.0003686073772859834, 'FireplaceQu'),\n",
              " (0.00043069509514308583, 'GarageType'),\n",
              " (0.00047000638988728443, 'HalfBath'),\n",
              " (0.0004791435508709858, 'BsmtQual'),\n",
              " (0.0004991221890422099, '2ndFlrSF'),\n",
              " (0.0005907585976962762, 'BedroomAbvGr'),\n",
              " (0.0006061455148495121, 'BsmtFullBath'),\n",
              " (0.0006304773454984224, 'EnclosedPorch'),\n",
              " (0.0006559204113363497, 'FullBath'),\n",
              " (0.0007395654419244238, 'YrSold'),\n",
              " (0.0007563286950978272, 'OpenPorchSF'),\n",
              " (0.0008362683078702552, 'LotConfig'),\n",
              " (0.00089807643206698, 'BsmtHalfBath'),\n",
              " (0.000970221247932495, 'RoofMatl'),\n",
              " (0.0010773018177322852, 'HeatingQC'),\n",
              " (0.0012862043443689604, 'BsmtExposure'),\n",
              " (0.001696045469178723, 'OverallQual'),\n",
              " (0.0018454169777181982, 'CentralAir'),\n",
              " (0.0018611386982611265, 'BsmtFinSF2'),\n",
              " (0.0018878299190693776, 'YearRemodAdd'),\n",
              " (0.0020030177387431874, 'BsmtFinType1'),\n",
              " (0.002346326361094603, 'MSSubClass'),\n",
              " (0.0026571314927316472, 'RoofStyle'),\n",
              " (0.002681398517289659, 'MoSold'),\n",
              " (0.002924101581119905, 'BsmtFinType2'),\n",
              " (0.003643334153159926, 'Id'),\n",
              " (0.004422405550478918, 'Street'),\n",
              " (0.004956508946455501, 'Foundation'),\n",
              " (0.00558834144939027, 'ExterCond'),\n",
              " (0.005670861599722602, 'MasVnrType'),\n",
              " (0.00574991967400849, 'LandSlope'),\n",
              " (0.006134085474869843, 'Exterior1st'),\n",
              " (0.006946468947786683, 'Exterior2nd'),\n",
              " (0.0075518688103330695, 'MSZoning'),\n",
              " (0.009785241934337522, 'LandContour'),\n",
              " (0.010642868487379437, 'LotShape'),\n",
              " (0.013448055090358606, 'LotFrontage'),\n",
              " (0.0160673626982313, 'YearBuilt'),\n",
              " (0.017110794907941443, 'Utilities'),\n",
              " (0.032116536149077266, 'Condition2'),\n",
              " (0.03644699460426023, 'ExterQual'),\n",
              " (0.037833181175007474, 'Alley'),\n",
              " (0.04858169891033251, 'Condition1'),\n",
              " (0.05935019546883971, 'Neighborhood'),\n",
              " (0.09743039103489612, 'MasVnrArea'),\n",
              " (0.12499730574471948, 'HouseStyle'),\n",
              " (0.2913848074980189, 'LotArea')]"
            ]
          },
          "metadata": {},
          "execution_count": 174
        }
      ]
    },
    {
      "cell_type": "markdown",
      "metadata": {
        "id": "K3YvBnpUeSEH"
      },
      "source": [
        "## Step 7: Solution Presentation\n",
        "Now that you need to write a short memo of one paragraph to be read by a non-technical audience (ie. your manager/supervisor). Focus on answering the following: \n",
        "\n",
        "* How can you pitch your solution to this project? \n",
        "* What did you learn so far about the problem?\n",
        "* Is there any insight moving forward to improve the solution?"
      ]
    },
    {
      "cell_type": "markdown",
      "source": [
        "*Assuming the context is for a small to mid sized real estate realter firm*\n",
        "\n",
        "Hello Team,\n",
        "\n",
        "I am writting to propose a new tool using a Machine Learning model to help us better evaulate market sales price of houses. With my model we can predict the projected Sale Price of a house within $30,000 of accurecy. The model claims that the 2 most imporant aspects of a house value are Lot Area and House Style which is consistent with our beliefs and should inspire higher confiendience in my proposed new tool. Going forward if this tool were adopted I would like to begin collecting a more expansive data set for training this machine learning tool so that it may provide even more utility to our firm.\n",
        "\n",
        "Thank you for your time,\n",
        "\n",
        "Robert Owens"
      ],
      "metadata": {
        "id": "8xgbZyOpSZgC"
      }
    }
  ]
}